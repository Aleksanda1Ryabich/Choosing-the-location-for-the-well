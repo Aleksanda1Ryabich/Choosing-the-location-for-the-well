{
 "cells": [
  {
   "cell_type": "markdown",
   "metadata": {},
   "source": [
    "# Выбор локации для скважины"
   ]
  },
  {
   "cell_type": "markdown",
   "metadata": {},
   "source": [
    "Допустим, вы работаете в добывающей компании «ГлавРосГосНефть». Нужно решить, где бурить новую скважину.\n",
    "\n",
    "Вам предоставлены пробы нефти в трёх регионах: в каждом 10 000 месторождений, где измерили качество нефти и объём её запасов. Постройте модель машинного обучения, которая поможет определить регион, где добыча принесёт наибольшую прибыль. Проанализируйте возможную прибыль и риски техникой *Bootstrap.*\n",
    "\n",
    "Шаги для выбора локации:\n",
    "\n",
    "- В избранном регионе ищут месторождения, для каждого определяют значения признаков;\n",
    "- Строят модель и оценивают объём запасов;\n",
    "- Выбирают месторождения с самым высокими оценками значений. Количество месторождений зависит от бюджета компании и стоимости разработки одной скважины;\n",
    "- Прибыль равна суммарной прибыли отобранных месторождений."
   ]
  },
  {
   "cell_type": "markdown",
   "metadata": {},
   "source": [
    "## Загрузка и подготовка данных"
   ]
  },
  {
   "cell_type": "code",
   "execution_count": 1,
   "metadata": {},
   "outputs": [],
   "source": [
    "import pandas as pd\n",
    "from sklearn.model_selection import train_test_split\n",
    "from sklearn.linear_model import LinearRegression\n",
    "from sklearn.preprocessing import StandardScaler\n",
    "from sklearn.metrics import accuracy_score\n",
    "from scipy import stats as st\n",
    "import numpy as np\n",
    "from sklearn.metrics import mean_squared_error, r2_score\n",
    "from tqdm.notebook import tqdm\n",
    "import matplotlib.pyplot as plt\n",
    "import seaborn as sns\n",
    "from sklearn.utils import shuffle\n",
    "from sklearn.preprocessing import OrdinalEncoder "
   ]
  },
  {
   "cell_type": "code",
   "execution_count": 2,
   "metadata": {},
   "outputs": [],
   "source": [
    "data0 = pd.read_csv('/datasets/geo_data_0.csv')\n",
    "data1 = pd.read_csv('/datasets/geo_data_1.csv')\n",
    "data2 = pd.read_csv('/datasets/geo_data_2.csv')"
   ]
  },
  {
   "cell_type": "code",
   "execution_count": 3,
   "metadata": {},
   "outputs": [
    {
     "data": {
      "text/html": [
       "<div>\n",
       "<style scoped>\n",
       "    .dataframe tbody tr th:only-of-type {\n",
       "        vertical-align: middle;\n",
       "    }\n",
       "\n",
       "    .dataframe tbody tr th {\n",
       "        vertical-align: top;\n",
       "    }\n",
       "\n",
       "    .dataframe thead th {\n",
       "        text-align: right;\n",
       "    }\n",
       "</style>\n",
       "<table border=\"1\" class=\"dataframe\">\n",
       "  <thead>\n",
       "    <tr style=\"text-align: right;\">\n",
       "      <th></th>\n",
       "      <th>id</th>\n",
       "      <th>f0</th>\n",
       "      <th>f1</th>\n",
       "      <th>f2</th>\n",
       "      <th>product</th>\n",
       "    </tr>\n",
       "  </thead>\n",
       "  <tbody>\n",
       "    <tr>\n",
       "      <th>0</th>\n",
       "      <td>txEyH</td>\n",
       "      <td>0.705745</td>\n",
       "      <td>-0.497823</td>\n",
       "      <td>1.221170</td>\n",
       "      <td>105.280062</td>\n",
       "    </tr>\n",
       "    <tr>\n",
       "      <th>1</th>\n",
       "      <td>2acmU</td>\n",
       "      <td>1.334711</td>\n",
       "      <td>-0.340164</td>\n",
       "      <td>4.365080</td>\n",
       "      <td>73.037750</td>\n",
       "    </tr>\n",
       "    <tr>\n",
       "      <th>2</th>\n",
       "      <td>409Wp</td>\n",
       "      <td>1.022732</td>\n",
       "      <td>0.151990</td>\n",
       "      <td>1.419926</td>\n",
       "      <td>85.265647</td>\n",
       "    </tr>\n",
       "    <tr>\n",
       "      <th>3</th>\n",
       "      <td>iJLyR</td>\n",
       "      <td>-0.032172</td>\n",
       "      <td>0.139033</td>\n",
       "      <td>2.978566</td>\n",
       "      <td>168.620776</td>\n",
       "    </tr>\n",
       "    <tr>\n",
       "      <th>4</th>\n",
       "      <td>Xdl7t</td>\n",
       "      <td>1.988431</td>\n",
       "      <td>0.155413</td>\n",
       "      <td>4.751769</td>\n",
       "      <td>154.036647</td>\n",
       "    </tr>\n",
       "  </tbody>\n",
       "</table>\n",
       "</div>"
      ],
      "text/plain": [
       "      id        f0        f1        f2     product\n",
       "0  txEyH  0.705745 -0.497823  1.221170  105.280062\n",
       "1  2acmU  1.334711 -0.340164  4.365080   73.037750\n",
       "2  409Wp  1.022732  0.151990  1.419926   85.265647\n",
       "3  iJLyR -0.032172  0.139033  2.978566  168.620776\n",
       "4  Xdl7t  1.988431  0.155413  4.751769  154.036647"
      ]
     },
     "execution_count": 3,
     "metadata": {},
     "output_type": "execute_result"
    }
   ],
   "source": [
    "data0.head()"
   ]
  },
  {
   "cell_type": "code",
   "execution_count": 4,
   "metadata": {},
   "outputs": [
    {
     "name": "stdout",
     "output_type": "stream",
     "text": [
      "<class 'pandas.core.frame.DataFrame'>\n",
      "RangeIndex: 100000 entries, 0 to 99999\n",
      "Data columns (total 5 columns):\n",
      " #   Column   Non-Null Count   Dtype  \n",
      "---  ------   --------------   -----  \n",
      " 0   id       100000 non-null  object \n",
      " 1   f0       100000 non-null  float64\n",
      " 2   f1       100000 non-null  float64\n",
      " 3   f2       100000 non-null  float64\n",
      " 4   product  100000 non-null  float64\n",
      "dtypes: float64(4), object(1)\n",
      "memory usage: 3.8+ MB\n"
     ]
    }
   ],
   "source": [
    "data0.info()"
   ]
  },
  {
   "cell_type": "code",
   "execution_count": 5,
   "metadata": {},
   "outputs": [
    {
     "data": {
      "text/html": [
       "<div>\n",
       "<style scoped>\n",
       "    .dataframe tbody tr th:only-of-type {\n",
       "        vertical-align: middle;\n",
       "    }\n",
       "\n",
       "    .dataframe tbody tr th {\n",
       "        vertical-align: top;\n",
       "    }\n",
       "\n",
       "    .dataframe thead th {\n",
       "        text-align: right;\n",
       "    }\n",
       "</style>\n",
       "<table border=\"1\" class=\"dataframe\">\n",
       "  <thead>\n",
       "    <tr style=\"text-align: right;\">\n",
       "      <th></th>\n",
       "      <th>f0</th>\n",
       "      <th>f1</th>\n",
       "      <th>f2</th>\n",
       "      <th>product</th>\n",
       "    </tr>\n",
       "  </thead>\n",
       "  <tbody>\n",
       "    <tr>\n",
       "      <th>count</th>\n",
       "      <td>100000.000000</td>\n",
       "      <td>100000.000000</td>\n",
       "      <td>100000.000000</td>\n",
       "      <td>100000.000000</td>\n",
       "    </tr>\n",
       "    <tr>\n",
       "      <th>mean</th>\n",
       "      <td>0.500419</td>\n",
       "      <td>0.250143</td>\n",
       "      <td>2.502647</td>\n",
       "      <td>92.500000</td>\n",
       "    </tr>\n",
       "    <tr>\n",
       "      <th>std</th>\n",
       "      <td>0.871832</td>\n",
       "      <td>0.504433</td>\n",
       "      <td>3.248248</td>\n",
       "      <td>44.288691</td>\n",
       "    </tr>\n",
       "    <tr>\n",
       "      <th>min</th>\n",
       "      <td>-1.408605</td>\n",
       "      <td>-0.848218</td>\n",
       "      <td>-12.088328</td>\n",
       "      <td>0.000000</td>\n",
       "    </tr>\n",
       "    <tr>\n",
       "      <th>25%</th>\n",
       "      <td>-0.072580</td>\n",
       "      <td>-0.200881</td>\n",
       "      <td>0.287748</td>\n",
       "      <td>56.497507</td>\n",
       "    </tr>\n",
       "    <tr>\n",
       "      <th>50%</th>\n",
       "      <td>0.502360</td>\n",
       "      <td>0.250252</td>\n",
       "      <td>2.515969</td>\n",
       "      <td>91.849972</td>\n",
       "    </tr>\n",
       "    <tr>\n",
       "      <th>75%</th>\n",
       "      <td>1.073581</td>\n",
       "      <td>0.700646</td>\n",
       "      <td>4.715088</td>\n",
       "      <td>128.564089</td>\n",
       "    </tr>\n",
       "    <tr>\n",
       "      <th>max</th>\n",
       "      <td>2.362331</td>\n",
       "      <td>1.343769</td>\n",
       "      <td>16.003790</td>\n",
       "      <td>185.364347</td>\n",
       "    </tr>\n",
       "  </tbody>\n",
       "</table>\n",
       "</div>"
      ],
      "text/plain": [
       "                  f0             f1             f2        product\n",
       "count  100000.000000  100000.000000  100000.000000  100000.000000\n",
       "mean        0.500419       0.250143       2.502647      92.500000\n",
       "std         0.871832       0.504433       3.248248      44.288691\n",
       "min        -1.408605      -0.848218     -12.088328       0.000000\n",
       "25%        -0.072580      -0.200881       0.287748      56.497507\n",
       "50%         0.502360       0.250252       2.515969      91.849972\n",
       "75%         1.073581       0.700646       4.715088     128.564089\n",
       "max         2.362331       1.343769      16.003790     185.364347"
      ]
     },
     "execution_count": 5,
     "metadata": {},
     "output_type": "execute_result"
    }
   ],
   "source": [
    "data0.describe()"
   ]
  },
  {
   "cell_type": "code",
   "execution_count": 6,
   "metadata": {},
   "outputs": [
    {
     "data": {
      "text/plain": [
       "0"
      ]
     },
     "execution_count": 6,
     "metadata": {},
     "output_type": "execute_result"
    }
   ],
   "source": [
    "data0.duplicated().sum()"
   ]
  },
  {
   "cell_type": "code",
   "execution_count": 7,
   "metadata": {},
   "outputs": [
    {
     "name": "stdout",
     "output_type": "stream",
     "text": [
      "\n",
      "Распределение признаков:\n"
     ]
    },
    {
     "data": {
      "image/png": "[encoded data removed]",
      "text/plain": [
       "<Figure size 432x288 with 4 Axes>"
      ]
     },
     "metadata": {
      "needs_background": "light"
     },
     "output_type": "display_data"
    }
   ],
   "source": [
    "print('\\nРаспределение признаков:')\n",
    "data0[['f0','f1','f2']].hist()\n",
    "plt.show()"
   ]
  },
  {
   "cell_type": "code",
   "execution_count": 8,
   "metadata": {},
   "outputs": [
    {
     "name": "stdout",
     "output_type": "stream",
     "text": [
      "Корреляция0:\n",
      "0.14353635093189274\n",
      "-0.19235576281513284\n",
      "0.4836632869261524\n"
     ]
    }
   ],
   "source": [
    "print('Корреляция0:')\n",
    "print(data0['f0'].corr(data0['product']))\n",
    "print(data0['f1'].corr(data0['product']))\n",
    "print(data0['f2'].corr(data0['product']))"
   ]
  },
  {
   "cell_type": "code",
   "execution_count": 9,
   "metadata": {},
   "outputs": [
    {
     "data": {
      "text/html": [
       "<div>\n",
       "<style scoped>\n",
       "    .dataframe tbody tr th:only-of-type {\n",
       "        vertical-align: middle;\n",
       "    }\n",
       "\n",
       "    .dataframe tbody tr th {\n",
       "        vertical-align: top;\n",
       "    }\n",
       "\n",
       "    .dataframe thead th {\n",
       "        text-align: right;\n",
       "    }\n",
       "</style>\n",
       "<table border=\"1\" class=\"dataframe\">\n",
       "  <thead>\n",
       "    <tr style=\"text-align: right;\">\n",
       "      <th></th>\n",
       "      <th>id</th>\n",
       "      <th>f0</th>\n",
       "      <th>f1</th>\n",
       "      <th>f2</th>\n",
       "      <th>product</th>\n",
       "    </tr>\n",
       "  </thead>\n",
       "  <tbody>\n",
       "    <tr>\n",
       "      <th>0</th>\n",
       "      <td>kBEdx</td>\n",
       "      <td>-15.001348</td>\n",
       "      <td>-8.276000</td>\n",
       "      <td>-0.005876</td>\n",
       "      <td>3.179103</td>\n",
       "    </tr>\n",
       "    <tr>\n",
       "      <th>1</th>\n",
       "      <td>62mP7</td>\n",
       "      <td>14.272088</td>\n",
       "      <td>-3.475083</td>\n",
       "      <td>0.999183</td>\n",
       "      <td>26.953261</td>\n",
       "    </tr>\n",
       "    <tr>\n",
       "      <th>2</th>\n",
       "      <td>vyE1P</td>\n",
       "      <td>6.263187</td>\n",
       "      <td>-5.948386</td>\n",
       "      <td>5.001160</td>\n",
       "      <td>134.766305</td>\n",
       "    </tr>\n",
       "    <tr>\n",
       "      <th>3</th>\n",
       "      <td>KcrkZ</td>\n",
       "      <td>-13.081196</td>\n",
       "      <td>-11.506057</td>\n",
       "      <td>4.999415</td>\n",
       "      <td>137.945408</td>\n",
       "    </tr>\n",
       "    <tr>\n",
       "      <th>4</th>\n",
       "      <td>AHL4O</td>\n",
       "      <td>12.702195</td>\n",
       "      <td>-8.147433</td>\n",
       "      <td>5.004363</td>\n",
       "      <td>134.766305</td>\n",
       "    </tr>\n",
       "  </tbody>\n",
       "</table>\n",
       "</div>"
      ],
      "text/plain": [
       "      id         f0         f1        f2     product\n",
       "0  kBEdx -15.001348  -8.276000 -0.005876    3.179103\n",
       "1  62mP7  14.272088  -3.475083  0.999183   26.953261\n",
       "2  vyE1P   6.263187  -5.948386  5.001160  134.766305\n",
       "3  KcrkZ -13.081196 -11.506057  4.999415  137.945408\n",
       "4  AHL4O  12.702195  -8.147433  5.004363  134.766305"
      ]
     },
     "execution_count": 9,
     "metadata": {},
     "output_type": "execute_result"
    }
   ],
   "source": [
    "data1.head()"
   ]
  },
  {
   "cell_type": "code",
   "execution_count": 10,
   "metadata": {},
   "outputs": [
    {
     "name": "stdout",
     "output_type": "stream",
     "text": [
      "<class 'pandas.core.frame.DataFrame'>\n",
      "RangeIndex: 100000 entries, 0 to 99999\n",
      "Data columns (total 5 columns):\n",
      " #   Column   Non-Null Count   Dtype  \n",
      "---  ------   --------------   -----  \n",
      " 0   id       100000 non-null  object \n",
      " 1   f0       100000 non-null  float64\n",
      " 2   f1       100000 non-null  float64\n",
      " 3   f2       100000 non-null  float64\n",
      " 4   product  100000 non-null  float64\n",
      "dtypes: float64(4), object(1)\n",
      "memory usage: 3.8+ MB\n"
     ]
    }
   ],
   "source": [
    "data1.info()"
   ]
  },
  {
   "cell_type": "code",
   "execution_count": 11,
   "metadata": {},
   "outputs": [
    {
     "data": {
      "text/html": [
       "<div>\n",
       "<style scoped>\n",
       "    .dataframe tbody tr th:only-of-type {\n",
       "        vertical-align: middle;\n",
       "    }\n",
       "\n",
       "    .dataframe tbody tr th {\n",
       "        vertical-align: top;\n",
       "    }\n",
       "\n",
       "    .dataframe thead th {\n",
       "        text-align: right;\n",
       "    }\n",
       "</style>\n",
       "<table border=\"1\" class=\"dataframe\">\n",
       "  <thead>\n",
       "    <tr style=\"text-align: right;\">\n",
       "      <th></th>\n",
       "      <th>f0</th>\n",
       "      <th>f1</th>\n",
       "      <th>f2</th>\n",
       "      <th>product</th>\n",
       "    </tr>\n",
       "  </thead>\n",
       "  <tbody>\n",
       "    <tr>\n",
       "      <th>count</th>\n",
       "      <td>100000.000000</td>\n",
       "      <td>100000.000000</td>\n",
       "      <td>100000.000000</td>\n",
       "      <td>100000.000000</td>\n",
       "    </tr>\n",
       "    <tr>\n",
       "      <th>mean</th>\n",
       "      <td>1.141296</td>\n",
       "      <td>-4.796579</td>\n",
       "      <td>2.494541</td>\n",
       "      <td>68.825000</td>\n",
       "    </tr>\n",
       "    <tr>\n",
       "      <th>std</th>\n",
       "      <td>8.965932</td>\n",
       "      <td>5.119872</td>\n",
       "      <td>1.703572</td>\n",
       "      <td>45.944423</td>\n",
       "    </tr>\n",
       "    <tr>\n",
       "      <th>min</th>\n",
       "      <td>-31.609576</td>\n",
       "      <td>-26.358598</td>\n",
       "      <td>-0.018144</td>\n",
       "      <td>0.000000</td>\n",
       "    </tr>\n",
       "    <tr>\n",
       "      <th>25%</th>\n",
       "      <td>-6.298551</td>\n",
       "      <td>-8.267985</td>\n",
       "      <td>1.000021</td>\n",
       "      <td>26.953261</td>\n",
       "    </tr>\n",
       "    <tr>\n",
       "      <th>50%</th>\n",
       "      <td>1.153055</td>\n",
       "      <td>-4.813172</td>\n",
       "      <td>2.011479</td>\n",
       "      <td>57.085625</td>\n",
       "    </tr>\n",
       "    <tr>\n",
       "      <th>75%</th>\n",
       "      <td>8.621015</td>\n",
       "      <td>-1.332816</td>\n",
       "      <td>3.999904</td>\n",
       "      <td>107.813044</td>\n",
       "    </tr>\n",
       "    <tr>\n",
       "      <th>max</th>\n",
       "      <td>29.421755</td>\n",
       "      <td>18.734063</td>\n",
       "      <td>5.019721</td>\n",
       "      <td>137.945408</td>\n",
       "    </tr>\n",
       "  </tbody>\n",
       "</table>\n",
       "</div>"
      ],
      "text/plain": [
       "                  f0             f1             f2        product\n",
       "count  100000.000000  100000.000000  100000.000000  100000.000000\n",
       "mean        1.141296      -4.796579       2.494541      68.825000\n",
       "std         8.965932       5.119872       1.703572      45.944423\n",
       "min       -31.609576     -26.358598      -0.018144       0.000000\n",
       "25%        -6.298551      -8.267985       1.000021      26.953261\n",
       "50%         1.153055      -4.813172       2.011479      57.085625\n",
       "75%         8.621015      -1.332816       3.999904     107.813044\n",
       "max        29.421755      18.734063       5.019721     137.945408"
      ]
     },
     "execution_count": 11,
     "metadata": {},
     "output_type": "execute_result"
    }
   ],
   "source": [
    "data1.describe()"
   ]
  },
  {
   "cell_type": "code",
   "execution_count": 12,
   "metadata": {},
   "outputs": [
    {
     "data": {
      "text/plain": [
       "0"
      ]
     },
     "execution_count": 12,
     "metadata": {},
     "output_type": "execute_result"
    }
   ],
   "source": [
    "data1.duplicated().sum()"
   ]
  },
  {
   "cell_type": "code",
   "execution_count": 13,
   "metadata": {},
   "outputs": [
    {
     "name": "stdout",
     "output_type": "stream",
     "text": [
      "\n",
      "Распределение признаков:\n"
     ]
    },
    {
     "data": {
      "image/png": "[encoded data removed]",
      "text/plain": [
       "<Figure size 432x288 with 4 Axes>"
      ]
     },
     "metadata": {
      "needs_background": "light"
     },
     "output_type": "display_data"
    }
   ],
   "source": [
    "print('\\nРаспределение признаков:')\n",
    "data1[['f0','f1','f2']].hist()\n",
    "plt.show()"
   ]
  },
  {
   "cell_type": "code",
   "execution_count": 14,
   "metadata": {},
   "outputs": [
    {
     "name": "stdout",
     "output_type": "stream",
     "text": [
      "Корреляция1:\n",
      "-0.030490530564375246\n",
      "-0.010154931786466113\n",
      "0.9993969704906555\n"
     ]
    }
   ],
   "source": [
    "print('Корреляция1:')\n",
    "print(data1['f0'].corr(data1['product']))\n",
    "print(data1['f1'].corr(data1['product']))\n",
    "print(data1['f2'].corr(data1['product']))"
   ]
  },
  {
   "cell_type": "code",
   "execution_count": 15,
   "metadata": {},
   "outputs": [
    {
     "data": {
      "text/html": [
       "<div>\n",
       "<style scoped>\n",
       "    .dataframe tbody tr th:only-of-type {\n",
       "        vertical-align: middle;\n",
       "    }\n",
       "\n",
       "    .dataframe tbody tr th {\n",
       "        vertical-align: top;\n",
       "    }\n",
       "\n",
       "    .dataframe thead th {\n",
       "        text-align: right;\n",
       "    }\n",
       "</style>\n",
       "<table border=\"1\" class=\"dataframe\">\n",
       "  <thead>\n",
       "    <tr style=\"text-align: right;\">\n",
       "      <th></th>\n",
       "      <th>id</th>\n",
       "      <th>f0</th>\n",
       "      <th>f1</th>\n",
       "      <th>f2</th>\n",
       "      <th>product</th>\n",
       "    </tr>\n",
       "  </thead>\n",
       "  <tbody>\n",
       "    <tr>\n",
       "      <th>0</th>\n",
       "      <td>fwXo0</td>\n",
       "      <td>-1.146987</td>\n",
       "      <td>0.963328</td>\n",
       "      <td>-0.828965</td>\n",
       "      <td>27.758673</td>\n",
       "    </tr>\n",
       "    <tr>\n",
       "      <th>1</th>\n",
       "      <td>WJtFt</td>\n",
       "      <td>0.262778</td>\n",
       "      <td>0.269839</td>\n",
       "      <td>-2.530187</td>\n",
       "      <td>56.069697</td>\n",
       "    </tr>\n",
       "    <tr>\n",
       "      <th>2</th>\n",
       "      <td>ovLUW</td>\n",
       "      <td>0.194587</td>\n",
       "      <td>0.289035</td>\n",
       "      <td>-5.586433</td>\n",
       "      <td>62.871910</td>\n",
       "    </tr>\n",
       "    <tr>\n",
       "      <th>3</th>\n",
       "      <td>q6cA6</td>\n",
       "      <td>2.236060</td>\n",
       "      <td>-0.553760</td>\n",
       "      <td>0.930038</td>\n",
       "      <td>114.572842</td>\n",
       "    </tr>\n",
       "    <tr>\n",
       "      <th>4</th>\n",
       "      <td>WPMUX</td>\n",
       "      <td>-0.515993</td>\n",
       "      <td>1.716266</td>\n",
       "      <td>5.899011</td>\n",
       "      <td>149.600746</td>\n",
       "    </tr>\n",
       "  </tbody>\n",
       "</table>\n",
       "</div>"
      ],
      "text/plain": [
       "      id        f0        f1        f2     product\n",
       "0  fwXo0 -1.146987  0.963328 -0.828965   27.758673\n",
       "1  WJtFt  0.262778  0.269839 -2.530187   56.069697\n",
       "2  ovLUW  0.194587  0.289035 -5.586433   62.871910\n",
       "3  q6cA6  2.236060 -0.553760  0.930038  114.572842\n",
       "4  WPMUX -0.515993  1.716266  5.899011  149.600746"
      ]
     },
     "execution_count": 15,
     "metadata": {},
     "output_type": "execute_result"
    }
   ],
   "source": [
    "data2.head()"
   ]
  },
  {
   "cell_type": "code",
   "execution_count": 16,
   "metadata": {},
   "outputs": [
    {
     "name": "stdout",
     "output_type": "stream",
     "text": [
      "<class 'pandas.core.frame.DataFrame'>\n",
      "RangeIndex: 100000 entries, 0 to 99999\n",
      "Data columns (total 5 columns):\n",
      " #   Column   Non-Null Count   Dtype  \n",
      "---  ------   --------------   -----  \n",
      " 0   id       100000 non-null  object \n",
      " 1   f0       100000 non-null  float64\n",
      " 2   f1       100000 non-null  float64\n",
      " 3   f2       100000 non-null  float64\n",
      " 4   product  100000 non-null  float64\n",
      "dtypes: float64(4), object(1)\n",
      "memory usage: 3.8+ MB\n"
     ]
    }
   ],
   "source": [
    "data2.info()"
   ]
  },
  {
   "cell_type": "code",
   "execution_count": 17,
   "metadata": {},
   "outputs": [
    {
     "data": {
      "text/html": [
       "<div>\n",
       "<style scoped>\n",
       "    .dataframe tbody tr th:only-of-type {\n",
       "        vertical-align: middle;\n",
       "    }\n",
       "\n",
       "    .dataframe tbody tr th {\n",
       "        vertical-align: top;\n",
       "    }\n",
       "\n",
       "    .dataframe thead th {\n",
       "        text-align: right;\n",
       "    }\n",
       "</style>\n",
       "<table border=\"1\" class=\"dataframe\">\n",
       "  <thead>\n",
       "    <tr style=\"text-align: right;\">\n",
       "      <th></th>\n",
       "      <th>f0</th>\n",
       "      <th>f1</th>\n",
       "      <th>f2</th>\n",
       "      <th>product</th>\n",
       "    </tr>\n",
       "  </thead>\n",
       "  <tbody>\n",
       "    <tr>\n",
       "      <th>count</th>\n",
       "      <td>100000.000000</td>\n",
       "      <td>100000.000000</td>\n",
       "      <td>100000.000000</td>\n",
       "      <td>100000.000000</td>\n",
       "    </tr>\n",
       "    <tr>\n",
       "      <th>mean</th>\n",
       "      <td>0.002023</td>\n",
       "      <td>-0.002081</td>\n",
       "      <td>2.495128</td>\n",
       "      <td>95.000000</td>\n",
       "    </tr>\n",
       "    <tr>\n",
       "      <th>std</th>\n",
       "      <td>1.732045</td>\n",
       "      <td>1.730417</td>\n",
       "      <td>3.473445</td>\n",
       "      <td>44.749921</td>\n",
       "    </tr>\n",
       "    <tr>\n",
       "      <th>min</th>\n",
       "      <td>-8.760004</td>\n",
       "      <td>-7.084020</td>\n",
       "      <td>-11.970335</td>\n",
       "      <td>0.000000</td>\n",
       "    </tr>\n",
       "    <tr>\n",
       "      <th>25%</th>\n",
       "      <td>-1.162288</td>\n",
       "      <td>-1.174820</td>\n",
       "      <td>0.130359</td>\n",
       "      <td>59.450441</td>\n",
       "    </tr>\n",
       "    <tr>\n",
       "      <th>50%</th>\n",
       "      <td>0.009424</td>\n",
       "      <td>-0.009482</td>\n",
       "      <td>2.484236</td>\n",
       "      <td>94.925613</td>\n",
       "    </tr>\n",
       "    <tr>\n",
       "      <th>75%</th>\n",
       "      <td>1.158535</td>\n",
       "      <td>1.163678</td>\n",
       "      <td>4.858794</td>\n",
       "      <td>130.595027</td>\n",
       "    </tr>\n",
       "    <tr>\n",
       "      <th>max</th>\n",
       "      <td>7.238262</td>\n",
       "      <td>7.844801</td>\n",
       "      <td>16.739402</td>\n",
       "      <td>190.029838</td>\n",
       "    </tr>\n",
       "  </tbody>\n",
       "</table>\n",
       "</div>"
      ],
      "text/plain": [
       "                  f0             f1             f2        product\n",
       "count  100000.000000  100000.000000  100000.000000  100000.000000\n",
       "mean        0.002023      -0.002081       2.495128      95.000000\n",
       "std         1.732045       1.730417       3.473445      44.749921\n",
       "min        -8.760004      -7.084020     -11.970335       0.000000\n",
       "25%        -1.162288      -1.174820       0.130359      59.450441\n",
       "50%         0.009424      -0.009482       2.484236      94.925613\n",
       "75%         1.158535       1.163678       4.858794     130.595027\n",
       "max         7.238262       7.844801      16.739402     190.029838"
      ]
     },
     "execution_count": 17,
     "metadata": {},
     "output_type": "execute_result"
    }
   ],
   "source": [
    "data2.describe()"
   ]
  },
  {
   "cell_type": "code",
   "execution_count": 18,
   "metadata": {},
   "outputs": [
    {
     "data": {
      "text/plain": [
       "0"
      ]
     },
     "execution_count": 18,
     "metadata": {},
     "output_type": "execute_result"
    }
   ],
   "source": [
    "data2.duplicated().sum()"
   ]
  },
  {
   "cell_type": "code",
   "execution_count": 19,
   "metadata": {},
   "outputs": [
    {
     "name": "stdout",
     "output_type": "stream",
     "text": [
      "\n",
      "Распределение признаков:\n"
     ]
    },
    {
     "data": {
      "image/png": "[encoded data removed]",
      "text/plain": [
       "<Figure size 432x288 with 4 Axes>"
      ]
     },
     "metadata": {
      "needs_background": "light"
     },
     "output_type": "display_data"
    }
   ],
   "source": [
    "print('\\nРаспределение признаков:')\n",
    "data2[['f0','f1','f2']].hist()\n",
    "plt.show()"
   ]
  },
  {
   "cell_type": "code",
   "execution_count": 20,
   "metadata": {},
   "outputs": [
    {
     "name": "stdout",
     "output_type": "stream",
     "text": [
      "Корреляция2:\n",
      "-0.001987061999049139\n",
      "-0.0010123938161309028\n",
      "0.4458710915574209\n"
     ]
    }
   ],
   "source": [
    "print('Корреляция2:')\n",
    "print(data2['f0'].corr(data2['product']))\n",
    "print(data2['f1'].corr(data2['product']))\n",
    "print(data2['f2'].corr(data2['product']))"
   ]
  },
  {
   "cell_type": "markdown",
   "metadata": {},
   "source": [
    "Все датасеты не имеют пропусков, отсутствуют дубликаты.\n",
    "\n",
    "Признак f2 показывает наличие связи с объем запасов в скважине во всех трех регионах, особенно сильное влияние во втором регионе."
   ]
  },
  {
   "cell_type": "markdown",
   "metadata": {},
   "source": [
    "## Обучение и проверка модели"
   ]
  },
  {
   "cell_type": "code",
   "execution_count": 21,
   "metadata": {},
   "outputs": [],
   "source": [
    "# Разбиение данных на обучающую и валидационную выборки\n",
    "data0_train, data0_valid = train_test_split(data0, test_size=0.25, random_state=12345)"
   ]
  },
  {
   "cell_type": "code",
   "execution_count": 22,
   "metadata": {},
   "outputs": [],
   "source": [
    "data1_train, data1_valid = train_test_split(data1, test_size=0.25, random_state=12345)"
   ]
  },
  {
   "cell_type": "code",
   "execution_count": 23,
   "metadata": {},
   "outputs": [],
   "source": [
    "data2_train, data2_valid = train_test_split(data2, test_size=0.25, random_state=12345)"
   ]
  },
  {
   "cell_type": "code",
   "execution_count": 24,
   "metadata": {},
   "outputs": [],
   "source": [
    "# создаем переменные для признаков и целевого признака\n",
    "features_train0 = data0_train.drop(['product','id'], axis=1)\n",
    "target_train0 = data0_train['product']\n",
    "features_valid0 = data0_valid.drop(['product','id'], axis=1)\n",
    "target_valid0 = data0_valid['product']"
   ]
  },
  {
   "cell_type": "code",
   "execution_count": 25,
   "metadata": {},
   "outputs": [],
   "source": [
    "model0 = LinearRegression()# инициализируем модель LinearRegression\n",
    "model0.fit(features_train0,target_train0) # обучаем модель на тренировочной выборке\n",
    "predictions_valid0 = model0.predict(features_valid0) # получаем предсказания модели на валидационной выборке"
   ]
  },
  {
   "cell_type": "code",
   "execution_count": 26,
   "metadata": {},
   "outputs": [],
   "source": [
    "features_train1 = data1_train.drop(['product','id'], axis=1)\n",
    "target_train1 = data1_train['product']\n",
    "features_valid1 = data1_valid.drop(['product','id'], axis=1)\n",
    "target_valid1 = data1_valid['product']"
   ]
  },
  {
   "cell_type": "code",
   "execution_count": 27,
   "metadata": {},
   "outputs": [],
   "source": [
    "model1 = LinearRegression()\n",
    "model1.fit(features_train1,target_train1)\n",
    "predictions_valid1 = model1.predict(features_valid1)"
   ]
  },
  {
   "cell_type": "code",
   "execution_count": 28,
   "metadata": {},
   "outputs": [],
   "source": [
    "features_train2 = data2_train.drop(['product','id'], axis=1)\n",
    "target_train2 = data2_train['product']\n",
    "features_valid2 = data2_valid.drop(['product','id'], axis=1)\n",
    "target_valid2 = data2_valid['product']"
   ]
  },
  {
   "cell_type": "code",
   "execution_count": 29,
   "metadata": {},
   "outputs": [],
   "source": [
    "model2 = LinearRegression()\n",
    "model2.fit(features_train2,target_train2)\n",
    "predictions_valid2 = model2.predict(features_valid2)"
   ]
  },
  {
   "cell_type": "code",
   "execution_count": 30,
   "metadata": {},
   "outputs": [],
   "source": [
    "mse0 = mean_squared_error(target_valid0, predictions_valid0)\n",
    "mse1 = mean_squared_error(target_valid1, predictions_valid1)\n",
    "mse2 = mean_squared_error(target_valid2, predictions_valid2)"
   ]
  },
  {
   "cell_type": "code",
   "execution_count": 31,
   "metadata": {},
   "outputs": [
    {
     "name": "stdout",
     "output_type": "stream",
     "text": [
      "Linear Regression0: MSE0 = 1412.2129364399243 , RMSE0 = 37.5794217150813\n",
      "Linear Regression1: MSE1 = 0.7976263360391157 , RMSE1 = 0.893099286775617\n",
      "Linear Regression2: MSE2 = 1602.3775813236196 , RMSE2 = 40.02970873393434\n"
     ]
    }
   ],
   "source": [
    "print('Linear Regression0:', 'MSE0 =', mse0, ', RMSE0 =', mse0 ** 0.5)\n",
    "print('Linear Regression1:', 'MSE1 =', mse1, ', RMSE1 =', mse1 ** 0.5)\n",
    "print('Linear Regression2:', 'MSE2 =', mse2, ', RMSE2 =', mse2 ** 0.5)"
   ]
  },
  {
   "cell_type": "code",
   "execution_count": 32,
   "metadata": {},
   "outputs": [
    {
     "name": "stdout",
     "output_type": "stream",
     "text": [
      "average_product0 = 92.59256778438008\n",
      "average_product1 = 68.7285468954458\n",
      "average_product2 = 94.96504596800506\n"
     ]
    }
   ],
   "source": [
    "# средний запас предсказанного сырья\n",
    "print('average_product0 =', sum(predictions_valid0) / len(predictions_valid0))\n",
    "print('average_product1 =', sum(predictions_valid1) / len(predictions_valid1))\n",
    "print('average_product2 =', sum(predictions_valid2) / len(predictions_valid2))"
   ]
  },
  {
   "cell_type": "markdown",
   "metadata": {},
   "source": [
    "Модель 1 имеет самый низкий RMSE =  0.893, что говорит нам о том, что она способна лучше всего соответствовать набору данных из трех потенциальных моделей."
   ]
  },
  {
   "cell_type": "markdown",
   "metadata": {},
   "source": [
    "## Подготовка к расчёту прибыли"
   ]
  },
  {
   "cell_type": "code",
   "execution_count": 33,
   "metadata": {},
   "outputs": [],
   "source": [
    "budget = 10000000 #Бюджет на разработку скважин в регионе, тыс.руб\n",
    "income_one_prod = 450 #Доход с каждой единицы продукта, тыс.руб\n",
    "target_probability_losses = 2.5/100 # вероятность убытков\n",
    "product_mean_0 = data0['product'].mean()\n",
    "product_mean_1 = data1['product'].mean()\n",
    "product_mean_2 = data2['product'].mean()"
   ]
  },
  {
   "cell_type": "code",
   "execution_count": 34,
   "metadata": {},
   "outputs": [
    {
     "name": "stdout",
     "output_type": "stream",
     "text": [
      "Бюджет на разработку одной скважины: 50.0 млн.руб\n"
     ]
    }
   ],
   "source": [
    "budg_per_1_point=(budget/200)# тыс.руб\n",
    "print('Бюджет на разработку одной скважины:', budg_per_1_point/1000,'млн.руб')"
   ]
  },
  {
   "cell_type": "code",
   "execution_count": 35,
   "metadata": {},
   "outputs": [
    {
     "name": "stdout",
     "output_type": "stream",
     "text": [
      "Объём каждой скважины для безубыточной разработки должен составлять не менее: 111.11 тыс.баррелей\n"
     ]
    }
   ],
   "source": [
    "v_prod=budg_per_1_point/income_one_prod\n",
    "print('Объём каждой скважины для безубыточной разработки должен составлять не менее: %.2f'%v_prod,'тыс.баррелей')"
   ]
  },
  {
   "cell_type": "code",
   "execution_count": 36,
   "metadata": {},
   "outputs": [
    {
     "data": {
      "text/html": [
       "<div>\n",
       "<style scoped>\n",
       "    .dataframe tbody tr th:only-of-type {\n",
       "        vertical-align: middle;\n",
       "    }\n",
       "\n",
       "    .dataframe tbody tr th {\n",
       "        vertical-align: top;\n",
       "    }\n",
       "\n",
       "    .dataframe thead th {\n",
       "        text-align: right;\n",
       "    }\n",
       "</style>\n",
       "<table border=\"1\" class=\"dataframe\">\n",
       "  <thead>\n",
       "    <tr style=\"text-align: right;\">\n",
       "      <th></th>\n",
       "      <th>id</th>\n",
       "      <th>f0</th>\n",
       "      <th>f1</th>\n",
       "      <th>f2</th>\n",
       "      <th>product</th>\n",
       "      <th>profit</th>\n",
       "    </tr>\n",
       "  </thead>\n",
       "  <tbody>\n",
       "    <tr>\n",
       "      <th>0</th>\n",
       "      <td>txEyH</td>\n",
       "      <td>0.705745</td>\n",
       "      <td>-0.497823</td>\n",
       "      <td>1.221170</td>\n",
       "      <td>105.280062</td>\n",
       "      <td>47376.03</td>\n",
       "    </tr>\n",
       "    <tr>\n",
       "      <th>1</th>\n",
       "      <td>2acmU</td>\n",
       "      <td>1.334711</td>\n",
       "      <td>-0.340164</td>\n",
       "      <td>4.365080</td>\n",
       "      <td>73.037750</td>\n",
       "      <td>32866.99</td>\n",
       "    </tr>\n",
       "    <tr>\n",
       "      <th>2</th>\n",
       "      <td>409Wp</td>\n",
       "      <td>1.022732</td>\n",
       "      <td>0.151990</td>\n",
       "      <td>1.419926</td>\n",
       "      <td>85.265647</td>\n",
       "      <td>38369.54</td>\n",
       "    </tr>\n",
       "    <tr>\n",
       "      <th>3</th>\n",
       "      <td>iJLyR</td>\n",
       "      <td>-0.032172</td>\n",
       "      <td>0.139033</td>\n",
       "      <td>2.978566</td>\n",
       "      <td>168.620776</td>\n",
       "      <td>75879.35</td>\n",
       "    </tr>\n",
       "    <tr>\n",
       "      <th>4</th>\n",
       "      <td>Xdl7t</td>\n",
       "      <td>1.988431</td>\n",
       "      <td>0.155413</td>\n",
       "      <td>4.751769</td>\n",
       "      <td>154.036647</td>\n",
       "      <td>69316.49</td>\n",
       "    </tr>\n",
       "  </tbody>\n",
       "</table>\n",
       "</div>"
      ],
      "text/plain": [
       "      id        f0        f1        f2     product    profit\n",
       "0  txEyH  0.705745 -0.497823  1.221170  105.280062  47376.03\n",
       "1  2acmU  1.334711 -0.340164  4.365080   73.037750  32866.99\n",
       "2  409Wp  1.022732  0.151990  1.419926   85.265647  38369.54\n",
       "3  iJLyR -0.032172  0.139033  2.978566  168.620776  75879.35\n",
       "4  Xdl7t  1.988431  0.155413  4.751769  154.036647  69316.49"
      ]
     },
     "execution_count": 36,
     "metadata": {},
     "output_type": "execute_result"
    }
   ],
   "source": [
    "# Сравнение полученного объёма сырья со средним запасом в каждом регионе\n",
    "data0['profit']=(data0['product']*(income_one_prod)).round(2) # profit, тыс.руб\n",
    "data0.head()"
   ]
  },
  {
   "cell_type": "code",
   "execution_count": 37,
   "metadata": {},
   "outputs": [
    {
     "data": {
      "text/html": [
       "<div>\n",
       "<style scoped>\n",
       "    .dataframe tbody tr th:only-of-type {\n",
       "        vertical-align: middle;\n",
       "    }\n",
       "\n",
       "    .dataframe tbody tr th {\n",
       "        vertical-align: top;\n",
       "    }\n",
       "\n",
       "    .dataframe thead th {\n",
       "        text-align: right;\n",
       "    }\n",
       "</style>\n",
       "<table border=\"1\" class=\"dataframe\">\n",
       "  <thead>\n",
       "    <tr style=\"text-align: right;\">\n",
       "      <th></th>\n",
       "      <th>id</th>\n",
       "      <th>f0</th>\n",
       "      <th>f1</th>\n",
       "      <th>f2</th>\n",
       "      <th>product</th>\n",
       "      <th>profit</th>\n",
       "    </tr>\n",
       "  </thead>\n",
       "  <tbody>\n",
       "    <tr>\n",
       "      <th>0</th>\n",
       "      <td>kBEdx</td>\n",
       "      <td>-15.001348</td>\n",
       "      <td>-8.276000</td>\n",
       "      <td>-0.005876</td>\n",
       "      <td>3.179103</td>\n",
       "      <td>1430.60</td>\n",
       "    </tr>\n",
       "    <tr>\n",
       "      <th>1</th>\n",
       "      <td>62mP7</td>\n",
       "      <td>14.272088</td>\n",
       "      <td>-3.475083</td>\n",
       "      <td>0.999183</td>\n",
       "      <td>26.953261</td>\n",
       "      <td>12128.97</td>\n",
       "    </tr>\n",
       "    <tr>\n",
       "      <th>2</th>\n",
       "      <td>vyE1P</td>\n",
       "      <td>6.263187</td>\n",
       "      <td>-5.948386</td>\n",
       "      <td>5.001160</td>\n",
       "      <td>134.766305</td>\n",
       "      <td>60644.84</td>\n",
       "    </tr>\n",
       "    <tr>\n",
       "      <th>3</th>\n",
       "      <td>KcrkZ</td>\n",
       "      <td>-13.081196</td>\n",
       "      <td>-11.506057</td>\n",
       "      <td>4.999415</td>\n",
       "      <td>137.945408</td>\n",
       "      <td>62075.43</td>\n",
       "    </tr>\n",
       "    <tr>\n",
       "      <th>4</th>\n",
       "      <td>AHL4O</td>\n",
       "      <td>12.702195</td>\n",
       "      <td>-8.147433</td>\n",
       "      <td>5.004363</td>\n",
       "      <td>134.766305</td>\n",
       "      <td>60644.84</td>\n",
       "    </tr>\n",
       "  </tbody>\n",
       "</table>\n",
       "</div>"
      ],
      "text/plain": [
       "      id         f0         f1        f2     product    profit\n",
       "0  kBEdx -15.001348  -8.276000 -0.005876    3.179103   1430.60\n",
       "1  62mP7  14.272088  -3.475083  0.999183   26.953261  12128.97\n",
       "2  vyE1P   6.263187  -5.948386  5.001160  134.766305  60644.84\n",
       "3  KcrkZ -13.081196 -11.506057  4.999415  137.945408  62075.43\n",
       "4  AHL4O  12.702195  -8.147433  5.004363  134.766305  60644.84"
      ]
     },
     "execution_count": 37,
     "metadata": {},
     "output_type": "execute_result"
    }
   ],
   "source": [
    "data1['profit']=(data1['product']*(income_one_prod)).round(2) # profit, тыс.руб\n",
    "data1.head()"
   ]
  },
  {
   "cell_type": "code",
   "execution_count": 38,
   "metadata": {},
   "outputs": [
    {
     "data": {
      "text/html": [
       "<div>\n",
       "<style scoped>\n",
       "    .dataframe tbody tr th:only-of-type {\n",
       "        vertical-align: middle;\n",
       "    }\n",
       "\n",
       "    .dataframe tbody tr th {\n",
       "        vertical-align: top;\n",
       "    }\n",
       "\n",
       "    .dataframe thead th {\n",
       "        text-align: right;\n",
       "    }\n",
       "</style>\n",
       "<table border=\"1\" class=\"dataframe\">\n",
       "  <thead>\n",
       "    <tr style=\"text-align: right;\">\n",
       "      <th></th>\n",
       "      <th>id</th>\n",
       "      <th>f0</th>\n",
       "      <th>f1</th>\n",
       "      <th>f2</th>\n",
       "      <th>product</th>\n",
       "      <th>profit</th>\n",
       "    </tr>\n",
       "  </thead>\n",
       "  <tbody>\n",
       "    <tr>\n",
       "      <th>0</th>\n",
       "      <td>txEyH</td>\n",
       "      <td>0.705745</td>\n",
       "      <td>-0.497823</td>\n",
       "      <td>1.221170</td>\n",
       "      <td>105.280062</td>\n",
       "      <td>47376.03</td>\n",
       "    </tr>\n",
       "    <tr>\n",
       "      <th>1</th>\n",
       "      <td>2acmU</td>\n",
       "      <td>1.334711</td>\n",
       "      <td>-0.340164</td>\n",
       "      <td>4.365080</td>\n",
       "      <td>73.037750</td>\n",
       "      <td>32866.99</td>\n",
       "    </tr>\n",
       "    <tr>\n",
       "      <th>2</th>\n",
       "      <td>409Wp</td>\n",
       "      <td>1.022732</td>\n",
       "      <td>0.151990</td>\n",
       "      <td>1.419926</td>\n",
       "      <td>85.265647</td>\n",
       "      <td>38369.54</td>\n",
       "    </tr>\n",
       "    <tr>\n",
       "      <th>3</th>\n",
       "      <td>iJLyR</td>\n",
       "      <td>-0.032172</td>\n",
       "      <td>0.139033</td>\n",
       "      <td>2.978566</td>\n",
       "      <td>168.620776</td>\n",
       "      <td>75879.35</td>\n",
       "    </tr>\n",
       "    <tr>\n",
       "      <th>4</th>\n",
       "      <td>Xdl7t</td>\n",
       "      <td>1.988431</td>\n",
       "      <td>0.155413</td>\n",
       "      <td>4.751769</td>\n",
       "      <td>154.036647</td>\n",
       "      <td>69316.49</td>\n",
       "    </tr>\n",
       "  </tbody>\n",
       "</table>\n",
       "</div>"
      ],
      "text/plain": [
       "      id        f0        f1        f2     product    profit\n",
       "0  txEyH  0.705745 -0.497823  1.221170  105.280062  47376.03\n",
       "1  2acmU  1.334711 -0.340164  4.365080   73.037750  32866.99\n",
       "2  409Wp  1.022732  0.151990  1.419926   85.265647  38369.54\n",
       "3  iJLyR -0.032172  0.139033  2.978566  168.620776  75879.35\n",
       "4  Xdl7t  1.988431  0.155413  4.751769  154.036647  69316.49"
      ]
     },
     "execution_count": 38,
     "metadata": {},
     "output_type": "execute_result"
    }
   ],
   "source": [
    "data2['profit']=(data2['product']*(income_one_prod)).round(2) # profit, тыс.руб\n",
    "data0.head()"
   ]
  },
  {
   "cell_type": "code",
   "execution_count": 39,
   "metadata": {},
   "outputs": [
    {
     "data": {
      "text/html": [
       "<div>\n",
       "<style scoped>\n",
       "    .dataframe tbody tr th:only-of-type {\n",
       "        vertical-align: middle;\n",
       "    }\n",
       "\n",
       "    .dataframe tbody tr th {\n",
       "        vertical-align: top;\n",
       "    }\n",
       "\n",
       "    .dataframe thead th {\n",
       "        text-align: right;\n",
       "    }\n",
       "</style>\n",
       "<table border=\"1\" class=\"dataframe\">\n",
       "  <thead>\n",
       "    <tr style=\"text-align: right;\">\n",
       "      <th></th>\n",
       "      <th>id</th>\n",
       "      <th>f0</th>\n",
       "      <th>f1</th>\n",
       "      <th>f2</th>\n",
       "      <th>product</th>\n",
       "      <th>profit</th>\n",
       "      <th>roi_%</th>\n",
       "    </tr>\n",
       "  </thead>\n",
       "  <tbody>\n",
       "    <tr>\n",
       "      <th>0</th>\n",
       "      <td>txEyH</td>\n",
       "      <td>0.705745</td>\n",
       "      <td>-0.497823</td>\n",
       "      <td>1.221170</td>\n",
       "      <td>105.280062</td>\n",
       "      <td>47376.03</td>\n",
       "      <td>-5.25</td>\n",
       "    </tr>\n",
       "    <tr>\n",
       "      <th>1</th>\n",
       "      <td>2acmU</td>\n",
       "      <td>1.334711</td>\n",
       "      <td>-0.340164</td>\n",
       "      <td>4.365080</td>\n",
       "      <td>73.037750</td>\n",
       "      <td>32866.99</td>\n",
       "      <td>-34.27</td>\n",
       "    </tr>\n",
       "    <tr>\n",
       "      <th>2</th>\n",
       "      <td>409Wp</td>\n",
       "      <td>1.022732</td>\n",
       "      <td>0.151990</td>\n",
       "      <td>1.419926</td>\n",
       "      <td>85.265647</td>\n",
       "      <td>38369.54</td>\n",
       "      <td>-23.26</td>\n",
       "    </tr>\n",
       "    <tr>\n",
       "      <th>3</th>\n",
       "      <td>iJLyR</td>\n",
       "      <td>-0.032172</td>\n",
       "      <td>0.139033</td>\n",
       "      <td>2.978566</td>\n",
       "      <td>168.620776</td>\n",
       "      <td>75879.35</td>\n",
       "      <td>51.76</td>\n",
       "    </tr>\n",
       "    <tr>\n",
       "      <th>4</th>\n",
       "      <td>Xdl7t</td>\n",
       "      <td>1.988431</td>\n",
       "      <td>0.155413</td>\n",
       "      <td>4.751769</td>\n",
       "      <td>154.036647</td>\n",
       "      <td>69316.49</td>\n",
       "      <td>38.63</td>\n",
       "    </tr>\n",
       "  </tbody>\n",
       "</table>\n",
       "</div>"
      ],
      "text/plain": [
       "      id        f0        f1        f2     product    profit  roi_%\n",
       "0  txEyH  0.705745 -0.497823  1.221170  105.280062  47376.03  -5.25\n",
       "1  2acmU  1.334711 -0.340164  4.365080   73.037750  32866.99 -34.27\n",
       "2  409Wp  1.022732  0.151990  1.419926   85.265647  38369.54 -23.26\n",
       "3  iJLyR -0.032172  0.139033  2.978566  168.620776  75879.35  51.76\n",
       "4  Xdl7t  1.988431  0.155413  4.751769  154.036647  69316.49  38.63"
      ]
     },
     "execution_count": 39,
     "metadata": {},
     "output_type": "execute_result"
    }
   ],
   "source": [
    "# Определим значение ROI для каждой скважины по отношению к затратам на разработку\n",
    "data0['roi_%']=((data0['profit']-budg_per_1_point)/budg_per_1_point*100).round(2)\n",
    "data0.head()"
   ]
  },
  {
   "cell_type": "code",
   "execution_count": 40,
   "metadata": {},
   "outputs": [
    {
     "data": {
      "text/html": [
       "<div>\n",
       "<style scoped>\n",
       "    .dataframe tbody tr th:only-of-type {\n",
       "        vertical-align: middle;\n",
       "    }\n",
       "\n",
       "    .dataframe tbody tr th {\n",
       "        vertical-align: top;\n",
       "    }\n",
       "\n",
       "    .dataframe thead th {\n",
       "        text-align: right;\n",
       "    }\n",
       "</style>\n",
       "<table border=\"1\" class=\"dataframe\">\n",
       "  <thead>\n",
       "    <tr style=\"text-align: right;\">\n",
       "      <th></th>\n",
       "      <th>id</th>\n",
       "      <th>f0</th>\n",
       "      <th>f1</th>\n",
       "      <th>f2</th>\n",
       "      <th>product</th>\n",
       "      <th>profit</th>\n",
       "      <th>roi_%</th>\n",
       "    </tr>\n",
       "  </thead>\n",
       "  <tbody>\n",
       "    <tr>\n",
       "      <th>0</th>\n",
       "      <td>kBEdx</td>\n",
       "      <td>-15.001348</td>\n",
       "      <td>-8.276000</td>\n",
       "      <td>-0.005876</td>\n",
       "      <td>3.179103</td>\n",
       "      <td>1430.60</td>\n",
       "      <td>-97.14</td>\n",
       "    </tr>\n",
       "    <tr>\n",
       "      <th>1</th>\n",
       "      <td>62mP7</td>\n",
       "      <td>14.272088</td>\n",
       "      <td>-3.475083</td>\n",
       "      <td>0.999183</td>\n",
       "      <td>26.953261</td>\n",
       "      <td>12128.97</td>\n",
       "      <td>-75.74</td>\n",
       "    </tr>\n",
       "    <tr>\n",
       "      <th>2</th>\n",
       "      <td>vyE1P</td>\n",
       "      <td>6.263187</td>\n",
       "      <td>-5.948386</td>\n",
       "      <td>5.001160</td>\n",
       "      <td>134.766305</td>\n",
       "      <td>60644.84</td>\n",
       "      <td>21.29</td>\n",
       "    </tr>\n",
       "    <tr>\n",
       "      <th>3</th>\n",
       "      <td>KcrkZ</td>\n",
       "      <td>-13.081196</td>\n",
       "      <td>-11.506057</td>\n",
       "      <td>4.999415</td>\n",
       "      <td>137.945408</td>\n",
       "      <td>62075.43</td>\n",
       "      <td>24.15</td>\n",
       "    </tr>\n",
       "    <tr>\n",
       "      <th>4</th>\n",
       "      <td>AHL4O</td>\n",
       "      <td>12.702195</td>\n",
       "      <td>-8.147433</td>\n",
       "      <td>5.004363</td>\n",
       "      <td>134.766305</td>\n",
       "      <td>60644.84</td>\n",
       "      <td>21.29</td>\n",
       "    </tr>\n",
       "  </tbody>\n",
       "</table>\n",
       "</div>"
      ],
      "text/plain": [
       "      id         f0         f1        f2     product    profit  roi_%\n",
       "0  kBEdx -15.001348  -8.276000 -0.005876    3.179103   1430.60 -97.14\n",
       "1  62mP7  14.272088  -3.475083  0.999183   26.953261  12128.97 -75.74\n",
       "2  vyE1P   6.263187  -5.948386  5.001160  134.766305  60644.84  21.29\n",
       "3  KcrkZ -13.081196 -11.506057  4.999415  137.945408  62075.43  24.15\n",
       "4  AHL4O  12.702195  -8.147433  5.004363  134.766305  60644.84  21.29"
      ]
     },
     "execution_count": 40,
     "metadata": {},
     "output_type": "execute_result"
    }
   ],
   "source": [
    "data1['roi_%']=((data1['profit']-budg_per_1_point)/budg_per_1_point*100).round(2)\n",
    "data1.head()"
   ]
  },
  {
   "cell_type": "code",
   "execution_count": 41,
   "metadata": {},
   "outputs": [
    {
     "data": {
      "text/html": [
       "<div>\n",
       "<style scoped>\n",
       "    .dataframe tbody tr th:only-of-type {\n",
       "        vertical-align: middle;\n",
       "    }\n",
       "\n",
       "    .dataframe tbody tr th {\n",
       "        vertical-align: top;\n",
       "    }\n",
       "\n",
       "    .dataframe thead th {\n",
       "        text-align: right;\n",
       "    }\n",
       "</style>\n",
       "<table border=\"1\" class=\"dataframe\">\n",
       "  <thead>\n",
       "    <tr style=\"text-align: right;\">\n",
       "      <th></th>\n",
       "      <th>id</th>\n",
       "      <th>f0</th>\n",
       "      <th>f1</th>\n",
       "      <th>f2</th>\n",
       "      <th>product</th>\n",
       "      <th>profit</th>\n",
       "      <th>roi_%</th>\n",
       "    </tr>\n",
       "  </thead>\n",
       "  <tbody>\n",
       "    <tr>\n",
       "      <th>0</th>\n",
       "      <td>fwXo0</td>\n",
       "      <td>-1.146987</td>\n",
       "      <td>0.963328</td>\n",
       "      <td>-0.828965</td>\n",
       "      <td>27.758673</td>\n",
       "      <td>12491.40</td>\n",
       "      <td>-75.02</td>\n",
       "    </tr>\n",
       "    <tr>\n",
       "      <th>1</th>\n",
       "      <td>WJtFt</td>\n",
       "      <td>0.262778</td>\n",
       "      <td>0.269839</td>\n",
       "      <td>-2.530187</td>\n",
       "      <td>56.069697</td>\n",
       "      <td>25231.36</td>\n",
       "      <td>-49.54</td>\n",
       "    </tr>\n",
       "    <tr>\n",
       "      <th>2</th>\n",
       "      <td>ovLUW</td>\n",
       "      <td>0.194587</td>\n",
       "      <td>0.289035</td>\n",
       "      <td>-5.586433</td>\n",
       "      <td>62.871910</td>\n",
       "      <td>28292.36</td>\n",
       "      <td>-43.42</td>\n",
       "    </tr>\n",
       "    <tr>\n",
       "      <th>3</th>\n",
       "      <td>q6cA6</td>\n",
       "      <td>2.236060</td>\n",
       "      <td>-0.553760</td>\n",
       "      <td>0.930038</td>\n",
       "      <td>114.572842</td>\n",
       "      <td>51557.78</td>\n",
       "      <td>3.12</td>\n",
       "    </tr>\n",
       "    <tr>\n",
       "      <th>4</th>\n",
       "      <td>WPMUX</td>\n",
       "      <td>-0.515993</td>\n",
       "      <td>1.716266</td>\n",
       "      <td>5.899011</td>\n",
       "      <td>149.600746</td>\n",
       "      <td>67320.34</td>\n",
       "      <td>34.64</td>\n",
       "    </tr>\n",
       "  </tbody>\n",
       "</table>\n",
       "</div>"
      ],
      "text/plain": [
       "      id        f0        f1        f2     product    profit  roi_%\n",
       "0  fwXo0 -1.146987  0.963328 -0.828965   27.758673  12491.40 -75.02\n",
       "1  WJtFt  0.262778  0.269839 -2.530187   56.069697  25231.36 -49.54\n",
       "2  ovLUW  0.194587  0.289035 -5.586433   62.871910  28292.36 -43.42\n",
       "3  q6cA6  2.236060 -0.553760  0.930038  114.572842  51557.78   3.12\n",
       "4  WPMUX -0.515993  1.716266  5.899011  149.600746  67320.34  34.64"
      ]
     },
     "execution_count": 41,
     "metadata": {},
     "output_type": "execute_result"
    }
   ],
   "source": [
    "data2['roi_%']=((data2['profit']-budg_per_1_point)/budg_per_1_point*100).round(2)\n",
    "data2.head()"
   ]
  },
  {
   "cell_type": "code",
   "execution_count": 42,
   "metadata": {},
   "outputs": [
    {
     "name": "stdout",
     "output_type": "stream",
     "text": [
      "Разница объёма сырья для безубыточной разработки скважины относительно среднего значения по 1 региону составляет: -16.75%\n",
      "Или 18.61 тыс.баррелей\n"
     ]
    }
   ],
   "source": [
    "print('Разница объёма сырья для безубыточной разработки скважины относительно среднего значения по 1 региону составляет: {:.2%}'.format(product_mean_0/v_prod-1))\n",
    "print('Или {:.2f} тыс.баррелей'.format(v_prod-product_mean_0))"
   ]
  },
  {
   "cell_type": "code",
   "execution_count": 43,
   "metadata": {},
   "outputs": [
    {
     "name": "stdout",
     "output_type": "stream",
     "text": [
      "Разница объёма сырья для безубыточной разработки скважины относительно среднего значения по 2 региону составляет: -38.06%\n",
      "Или 42.29 тыс.баррелей\n"
     ]
    }
   ],
   "source": [
    "print('Разница объёма сырья для безубыточной разработки скважины относительно среднего значения по 2 региону составляет: {:.2%}'.format(product_mean_1/v_prod-1))\n",
    "print('Или {:.2f} тыс.баррелей'.format(v_prod-product_mean_1))"
   ]
  },
  {
   "cell_type": "code",
   "execution_count": 44,
   "metadata": {},
   "outputs": [
    {
     "name": "stdout",
     "output_type": "stream",
     "text": [
      "Разница объёма сырья для безубыточной разработки скважины относительно среднего значения по 3 региону составляет: -14.50%\n",
      "Или 16.11 тыс.баррелей\n"
     ]
    }
   ],
   "source": [
    "print('Разница объёма сырья для безубыточной разработки скважины относительно среднего значения по 3 региону составляет: {:.2%}'.format(product_mean_2/v_prod-1))\n",
    "print('Или {:.2f} тыс.баррелей'.format(v_prod-product_mean_2))"
   ]
  },
  {
   "cell_type": "markdown",
   "metadata": {},
   "source": [
    "Исходя из полученных данных становится очевидно, что среднее количество запасов сырья по регионам недостаточное даже для окупаемости разработки, требуется выбрать скважины с максимальными запасами"
   ]
  },
  {
   "cell_type": "markdown",
   "metadata": {},
   "source": [
    "## Расчёт прибыли и рисков "
   ]
  },
  {
   "cell_type": "markdown",
   "metadata": {},
   "source": [
    "## Чек-лист готовности проекта"
   ]
  },
  {
   "cell_type": "code",
   "execution_count": 45,
   "metadata": {},
   "outputs": [
    {
     "data": {
      "text/plain": [
       "array([ 95.89495185,  77.57258261,  77.89263965, ...,  61.50983303,\n",
       "       118.18039721, 118.16939229])"
      ]
     },
     "execution_count": 45,
     "metadata": {},
     "output_type": "execute_result"
    }
   ],
   "source": [
    "# Выберем скважины с максимальными значениями предсказаний\n",
    "predictions_valid0"
   ]
  },
  {
   "cell_type": "code",
   "execution_count": 46,
   "metadata": {},
   "outputs": [
    {
     "data": {
      "text/plain": [
       "93073    180.180713\n",
       "46784    176.252213\n",
       "78948    175.850623\n",
       "43388    175.658429\n",
       "6496     173.299686\n",
       "            ...    \n",
       "30488    148.507064\n",
       "98799    148.481767\n",
       "53840    148.476498\n",
       "4638     148.436761\n",
       "75908    148.365941\n",
       "Length: 200, dtype: float64"
      ]
     },
     "execution_count": 46,
     "metadata": {},
     "output_type": "execute_result"
    }
   ],
   "source": [
    "# Выполним привязку индексов скважин к предсказаниям модели и отсорируем список по убыванию\n",
    "probs_sorted_0 = pd.Series(predictions_valid0, index=target_valid0.index).sort_values(ascending=False)\n",
    "selected_max_0 = probs_sorted_0[:200]\n",
    "selected_max_0"
   ]
  },
  {
   "cell_type": "code",
   "execution_count": 47,
   "metadata": {},
   "outputs": [
    {
     "name": "stdout",
     "output_type": "stream",
     "text": [
      "Суммарный запас сырья в 200 лучших скважинах составит: 31102.33 тыс.баррелей\n"
     ]
    }
   ],
   "source": [
    "selected_max_0_sum = selected_max_0.sum()\n",
    "print('Суммарный запас сырья в 200 лучших скважинах составит: %.2f тыс.баррелей'%selected_max_0_sum)"
   ]
  },
  {
   "cell_type": "code",
   "execution_count": 48,
   "metadata": {},
   "outputs": [
    {
     "name": "stdout",
     "output_type": "stream",
     "text": [
      "Прибыль для полученного объёма сырья составит 3996048.88 тыс.рублей\n"
     ]
    }
   ],
   "source": [
    "profit_pred_0=(selected_max_0_sum*income_one_prod)-budget\n",
    "print('Прибыль для полученного объёма сырья составит %.2f тыс.рублей'%profit_pred_0)"
   ]
  },
  {
   "cell_type": "code",
   "execution_count": 49,
   "metadata": {},
   "outputs": [],
   "source": [
    "def profit_for_vp(predict,target,count):\n",
    "    probs_sorted = pd.Series(predict, index=target.index).sort_values(ascending=False)\n",
    "    selected_max = probs_sorted[:count].sum()\n",
    "    profit_pred=(selected_max*income_one_prod)-budget\n",
    "    print('Суммарный запас сырья в 200 лучших скважинах составит: %.2f тыс.баррелей'%selected_max)\n",
    "    print('Прибыль для полученного объёма сырья составит %.2f млн.рублей'%(profit_pred/1000))"
   ]
  },
  {
   "cell_type": "code",
   "execution_count": 50,
   "metadata": {},
   "outputs": [
    {
     "name": "stdout",
     "output_type": "stream",
     "text": [
      "Суммарный запас сырья в 200 лучших скважинах составит: 31102.33 тыс.баррелей\n",
      "Прибыль для полученного объёма сырья составит 3996.05 млн.рублей\n"
     ]
    }
   ],
   "source": [
    "profit_for_vp(predictions_valid0,target_valid0,200)"
   ]
  },
  {
   "cell_type": "code",
   "execution_count": 51,
   "metadata": {},
   "outputs": [
    {
     "name": "stdout",
     "output_type": "stream",
     "text": [
      "Суммарный запас сырья в 200 лучших скважинах составит: 27746.03 тыс.баррелей\n",
      "Прибыль для полученного объёма сырья составит 2485.71 млн.рублей\n"
     ]
    }
   ],
   "source": [
    "profit_for_vp(predictions_valid1,target_valid1,200)"
   ]
  },
  {
   "cell_type": "code",
   "execution_count": 52,
   "metadata": {},
   "outputs": [
    {
     "name": "stdout",
     "output_type": "stream",
     "text": [
      "Суммарный запас сырья в 200 лучших скважинах составит: 29603.90 тыс.баррелей\n",
      "Прибыль для полученного объёма сырья составит 3321.75 млн.рублей\n"
     ]
    }
   ],
   "source": [
    "profit_for_vp(predictions_valid2,target_valid2,200)"
   ]
  },
  {
   "cell_type": "markdown",
   "metadata": {},
   "source": [
    "Все три региона потенциально прибыльные, для определения наиболее выгодного с точки зрения окупаемости вложений и рисков убытка проведём расчёт вероятности в следующей главе."
   ]
  },
  {
   "cell_type": "code",
   "execution_count": 53,
   "metadata": {},
   "outputs": [],
   "source": [
    "def profit_for_vp2(predict,target,count):\n",
    "    probs_sorted = pd.Series(predict).sort_values(ascending=False)\n",
    "    selected_points = target[probs_sorted.index][:count]\n",
    "    product = selected_points.sum()\n",
    "    revenue = product * income_one_prod\n",
    "    return revenue - budget"
   ]
  },
  {
   "cell_type": "code",
   "execution_count": 54,
   "metadata": {},
   "outputs": [],
   "source": [
    "def bootstap_1000(target,predict):\n",
    "    values = []\n",
    "    count=0\n",
    "    state = np.random.RandomState(12345)\n",
    "    predict_e = pd.Series(predict, index=target.index)\n",
    "    \n",
    "    for i in tqdm(range(1000)):\n",
    "        target_subsample = target.sample(n=500,replace=True, random_state=state)\n",
    "  \n",
    "        probs_subsample = predict_e[target_subsample.index]\n",
    "        values.append(profit_for_vp2(probs_subsample,target_subsample, 200))  \n",
    "    for i in values:\n",
    "        if i < 0:\n",
    "            count +=1\n",
    "            \n",
    "    values = pd.Series(values)\n",
    "    mean = values.mean()\n",
    "    confidence_interval = st.t.interval(0.95, len(values)-1, values.mean(), values.sem())\n",
    "    \n",
    "    plt.title('Распределение прибыли')\n",
    "    values.plot(kind=\"hist\", grid=True, figsize=(8,5))\n",
    "    plt.xlabel('Прибыль, тыс.руб')\n",
    "    plt.ylabel('Количество')\n",
    "    plt.show()\n",
    "    \n",
    "    low_95 = values.quantile(0.025)\n",
    "    high_95 = values.quantile(0.975)\n",
    "    \n",
    "    print(\"Средняя прибыль: {:.2f} млн.руб\".format(mean/1000))\n",
    "    print('С вероятностью 95% прибыль в данном регионе будет составлять от: {:.2f} млн.руб до: {:.2f} млн.руб'.format((low_95/1000),(high_95/1000)))\n",
    "    print(\"95%-ый доверительный интервал: от {:.2f} млн.руб до {:.2f} млн.руб\". format((confidence_interval[0]/1000),(confidence_interval[1]/1000)))\n",
    "    print ('Процент вероятности убытка в данном регионе составит {:.1%}'.format(count/1000))"
   ]
  },
  {
   "cell_type": "code",
   "execution_count": 55,
   "metadata": {},
   "outputs": [
    {
     "data": {
      "application/vnd.jupyter.widget-view+json": {
       "model_id": "258656a0e354451cb68e54611e89782d",
       "version_major": 2,
       "version_minor": 0
      },
      "text/plain": [
       "  0%|          | 0/1000 [00:00<?, ?it/s]"
      ]
     },
     "metadata": {},
     "output_type": "display_data"
    },
    {
     "data": {
      "image/png": "[encoded data removed]",
      "text/plain": [
       "<Figure size 576x360 with 1 Axes>"
      ]
     },
     "metadata": {
      "needs_background": "light"
     },
     "output_type": "display_data"
    },
    {
     "name": "stdout",
     "output_type": "stream",
     "text": [
      "Средняя прибыль: 425.94 млн.руб\n",
      "С вероятностью 95% прибыль в данном регионе будет составлять от: -102.09 млн.руб до: 947.98 млн.руб\n",
      "95%-ый доверительный интервал: от 408.73 млн.руб до 443.14 млн.руб\n",
      "Процент вероятности убытка в данном регионе составит 6.0%\n"
     ]
    }
   ],
   "source": [
    "bootstap_1000(target_valid0,predictions_valid0)"
   ]
  },
  {
   "cell_type": "code",
   "execution_count": 56,
   "metadata": {},
   "outputs": [
    {
     "data": {
      "application/vnd.jupyter.widget-view+json": {
       "model_id": "7726159b758b4adb8ec774027d84db53",
       "version_major": 2,
       "version_minor": 0
      },
      "text/plain": [
       "  0%|          | 0/1000 [00:00<?, ?it/s]"
      ]
     },
     "metadata": {},
     "output_type": "display_data"
    },
    {
     "data": {
      "image/png": "[encoded data removed]",
      "text/plain": [
       "<Figure size 576x360 with 1 Axes>"
      ]
     },
     "metadata": {
      "needs_background": "light"
     },
     "output_type": "display_data"
    },
    {
     "name": "stdout",
     "output_type": "stream",
     "text": [
      "Средняя прибыль: 515.22 млн.руб\n",
      "С вероятностью 95% прибыль в данном регионе будет составлять от: 68.87 млн.руб до: 931.55 млн.руб\n",
      "95%-ый доверительный интервал: от 501.62 млн.руб до 528.82 млн.руб\n",
      "Процент вероятности убытка в данном регионе составит 1.0%\n"
     ]
    }
   ],
   "source": [
    "bootstap_1000(target_valid1,predictions_valid1)"
   ]
  },
  {
   "cell_type": "code",
   "execution_count": 57,
   "metadata": {},
   "outputs": [
    {
     "data": {
      "application/vnd.jupyter.widget-view+json": {
       "model_id": "930dbc652d8e4e2e9d54bc9d57534c40",
       "version_major": 2,
       "version_minor": 0
      },
      "text/plain": [
       "  0%|          | 0/1000 [00:00<?, ?it/s]"
      ]
     },
     "metadata": {},
     "output_type": "display_data"
    },
    {
     "data": {
      "image/png": "[encoded data removed]",
      "text/plain": [
       "<Figure size 576x360 with 1 Axes>"
      ]
     },
     "metadata": {
      "needs_background": "light"
     },
     "output_type": "display_data"
    },
    {
     "name": "stdout",
     "output_type": "stream",
     "text": [
      "Средняя прибыль: 435.01 млн.руб\n",
      "С вероятностью 95% прибыль в данном регионе будет составлять от: -128.88 млн.руб до: 969.71 млн.руб\n",
      "95%-ый доверительный интервал: от 417.45 млн.руб до 452.56 млн.руб\n",
      "Процент вероятности убытка в данном регионе составит 6.4%\n"
     ]
    }
   ],
   "source": [
    "bootstap_1000(target_valid2,predictions_valid2)"
   ]
  },
  {
   "cell_type": "markdown",
   "metadata": {},
   "source": [
    "Сравним среднюю прибыль, вероятность убытка и суммарный запас сырья трёх представленных регионов в таблице"
   ]
  },
  {
   "cell_type": "code",
   "execution_count": 58,
   "metadata": {},
   "outputs": [
    {
     "data": {
      "text/html": [
       "<div>\n",
       "<style scoped>\n",
       "    .dataframe tbody tr th:only-of-type {\n",
       "        vertical-align: middle;\n",
       "    }\n",
       "\n",
       "    .dataframe tbody tr th {\n",
       "        vertical-align: top;\n",
       "    }\n",
       "\n",
       "    .dataframe thead th {\n",
       "        text-align: right;\n",
       "    }\n",
       "</style>\n",
       "<table border=\"1\" class=\"dataframe\">\n",
       "  <thead>\n",
       "    <tr style=\"text-align: right;\">\n",
       "      <th></th>\n",
       "      <th>1 регион</th>\n",
       "      <th>2 регион</th>\n",
       "      <th>3 регион</th>\n",
       "    </tr>\n",
       "  </thead>\n",
       "  <tbody>\n",
       "    <tr>\n",
       "      <th>Средняя прибыль в регионе, млн.руб</th>\n",
       "      <td>425.94</td>\n",
       "      <td>515.22</td>\n",
       "      <td>435.01</td>\n",
       "    </tr>\n",
       "    <tr>\n",
       "      <th>Суммарный запас сырья, тыс.баррелей</th>\n",
       "      <td>31102.33</td>\n",
       "      <td>27746.03</td>\n",
       "      <td>29603.90</td>\n",
       "    </tr>\n",
       "    <tr>\n",
       "      <th>Вероятность убытка, %</th>\n",
       "      <td>6.0</td>\n",
       "      <td>1.0</td>\n",
       "      <td>6.4</td>\n",
       "    </tr>\n",
       "  </tbody>\n",
       "</table>\n",
       "</div>"
      ],
      "text/plain": [
       "                                     1 регион  2 регион  3 регион\n",
       "Средняя прибыль в регионе, млн.руб     425.94    515.22    435.01\n",
       "Суммарный запас сырья, тыс.баррелей  31102.33  27746.03  29603.90\n",
       "Вероятность убытка, %                     6.0       1.0       6.4"
      ]
     },
     "execution_count": 58,
     "metadata": {},
     "output_type": "execute_result"
    }
   ],
   "source": [
    "comparison_tabl = pd.DataFrame(index=['Средняя прибыль в регионе, млн.руб','Суммарный запас сырья, тыс.баррелей','Вероятность убытка, %'], columns=['1 регион','2 регион','3 регион'])\n",
    "comparison_tabl['1 регион'] = '425.94', '31102.33','6.0'\n",
    "comparison_tabl['2 регион'] = '515.22', '27746.03','1.0'\n",
    "comparison_tabl['3 регион'] = '435.01', '29603.90','6.4'\n",
    "comparison_tabl"
   ]
  },
  {
   "cell_type": "code",
   "execution_count": 59,
   "metadata": {},
   "outputs": [
    {
     "data": {
      "image/png": "[encoded data removed]",
      "text/plain": [
       "<Figure size 576x360 with 1 Axes>"
      ]
     },
     "metadata": {
      "needs_background": "light"
     },
     "output_type": "display_data"
    }
   ],
   "source": [
    "comparison_tabl.astype('float').iloc[0,:].plot(kind=\"bar\", figsize=(8,5), grid=True, alpha=0.7, subplots=True)\n",
    "plt.title('Средняя прибыль трёх представленных регионов')\n",
    "plt.ylabel('Средняя прибыль в регионе, млн.руб')\n",
    "plt.show()"
   ]
  },
  {
   "cell_type": "code",
   "execution_count": 60,
   "metadata": {},
   "outputs": [
    {
     "data": {
      "image/png": "[encoded data removed]",
      "text/plain": [
       "<Figure size 432x432 with 1 Axes>"
      ]
     },
     "metadata": {},
     "output_type": "display_data"
    }
   ],
   "source": [
    "comparison_tabl.astype('float').iloc[1,:].plot(kind='pie', figsize=(6,6),autopct='%1.1f%%', subplots=True)\n",
    "plt.title('Суммарный запас сырья, тыс.баррелей')\n",
    "plt.ylabel('')\n",
    "plt.show()"
   ]
  },
  {
   "cell_type": "markdown",
   "metadata": {},
   "source": [
    "Согласно распределению среднего значения прибыли с региона, самым прибыльным оказался 2 регион, средняя прибыль в этом регионе составит 489.66 млн.рублей. Два других региона не прошли отбор по минимально допустимому порогу убытка в 2,5%. Таким образом не смотря на сравнительно меньшие запасы сырья, по сравнению с другими регионами, средняя доходность со скважин во втором регионе прогнозируется выше других."
   ]
  },
  {
   "cell_type": "markdown",
   "metadata": {},
   "source": [
    "ВЫВОД:\n",
    "\n",
    "Было проведено исследование, чтобы спрогнозировать, где бурить новую скважину. Входные данные - данные геологоразведки трёх регионов. Данные синтетические: детали контрактов и характеристики месторождений не разглашаются. Результаты исследования будут учтены бизнесом. \n",
    "\n",
    "В первоначальные данных наблюдалось, что средний запас ресурсов по регионам недостаточен даже для окупаемости вложений на разработку и для того, чтобы иметь уверенность в перспективе разработки по регионам. Разница объёма сырья для безубыточной разработки скважины относительно среднего значения:\n",
    "\n",
    "1 регион составляет: -16.75%\n",
    "2 регион составляет: -38.06%\n",
    "3 регион составляет: -14.5%.\n",
    "\n",
    "Фильтрация 200 скважин с максимальными значениями предсказаний по регионам показала прибыль:\n",
    "\n",
    "1 регион: 3996.05 млн.рублей\n",
    "2 регион: 2485.71 млн.рублей\n",
    "3 регион: 3321.75 млн.рублей\n",
    "\n",
    "По результату полученных данных мы определили доверительный интревал получения прибыли в 95%, ограничив вероятность убытка величиной менее 2,5%. И на основе этих данных смогли выбрать более перспективный регион для разработки 200 скважин.\n",
    "\n",
    "После всех исследований, не смотря на сравнительно меньшие предсказания запасов сырья во втором регионе в 27746.03 тыс.баррелей (по сравнению с другими регионами), с величиной вероятного возникновения убытка в 1%, но с превышающей средней прибылью, равной 515.22 млн.рублей, предпочтение в сторону разработки 200 скважин во 2 регионе."
   ]
  }
 ],
 "metadata": {
  "ExecuteTimeLog": [
   {
    "duration": 1771,
    "start_time": "2023-03-23T10:28:59.848Z"
   },
   {
    "duration": 1801,
    "start_time": "2023-03-23T10:29:01.621Z"
   },
   {
    "duration": 15,
    "start_time": "2023-03-23T10:29:03.423Z"
   },
   {
    "duration": 446,
    "start_time": "2023-03-23T10:29:42.785Z"
   },
   {
    "duration": 9,
    "start_time": "2023-03-23T10:29:43.461Z"
   },
   {
    "duration": 17,
    "start_time": "2023-03-23T10:29:44.632Z"
   },
   {
    "duration": 15,
    "start_time": "2023-03-23T10:29:47.393Z"
   },
   {
    "duration": 17,
    "start_time": "2023-03-23T10:30:44.793Z"
   },
   {
    "duration": 15,
    "start_time": "2023-03-23T10:31:00.064Z"
   },
   {
    "duration": 15,
    "start_time": "2023-03-23T10:31:11.854Z"
   },
   {
    "duration": 41,
    "start_time": "2023-03-23T10:31:35.475Z"
   },
   {
    "duration": 41,
    "start_time": "2023-03-23T10:31:48.645Z"
   },
   {
    "duration": 44,
    "start_time": "2023-03-23T10:32:05.368Z"
   },
   {
    "duration": 59,
    "start_time": "2023-03-23T10:32:35.218Z"
   },
   {
    "duration": 47,
    "start_time": "2023-03-23T10:32:47.832Z"
   },
   {
    "duration": 46,
    "start_time": "2023-03-23T10:33:04.457Z"
   },
   {
    "duration": 21,
    "start_time": "2023-03-23T10:35:08.366Z"
   },
   {
    "duration": 51,
    "start_time": "2023-03-23T15:37:11.973Z"
   },
   {
    "duration": 1526,
    "start_time": "2023-03-23T15:37:18.637Z"
   },
   {
    "duration": 1719,
    "start_time": "2023-03-23T15:37:20.165Z"
   },
   {
    "duration": 19,
    "start_time": "2023-03-23T15:37:21.886Z"
   },
   {
    "duration": 18,
    "start_time": "2023-03-23T15:37:21.907Z"
   },
   {
    "duration": 42,
    "start_time": "2023-03-23T15:37:21.927Z"
   },
   {
    "duration": 51,
    "start_time": "2023-03-23T15:37:21.990Z"
   },
   {
    "duration": 9,
    "start_time": "2023-03-23T15:37:22.070Z"
   },
   {
    "duration": 14,
    "start_time": "2023-03-23T15:37:23.011Z"
   },
   {
    "duration": 43,
    "start_time": "2023-03-23T15:37:23.562Z"
   },
   {
    "duration": 51,
    "start_time": "2023-03-23T15:37:24.114Z"
   },
   {
    "duration": 10,
    "start_time": "2023-03-23T15:37:26.614Z"
   },
   {
    "duration": 15,
    "start_time": "2023-03-23T15:37:27.128Z"
   },
   {
    "duration": 52,
    "start_time": "2023-03-23T15:37:27.688Z"
   },
   {
    "duration": 57,
    "start_time": "2023-03-23T15:37:28.291Z"
   },
   {
    "duration": 92,
    "start_time": "2023-03-23T15:37:31.037Z"
   },
   {
    "duration": 20,
    "start_time": "2023-03-23T15:37:41.268Z"
   },
   {
    "duration": 20,
    "start_time": "2023-03-23T15:39:11.218Z"
   },
   {
    "duration": 25,
    "start_time": "2023-03-23T15:39:11.831Z"
   },
   {
    "duration": 6,
    "start_time": "2023-03-23T15:46:01.564Z"
   },
   {
    "duration": 11,
    "start_time": "2023-03-23T15:56:30.232Z"
   },
   {
    "duration": 1428,
    "start_time": "2023-03-23T15:57:10.218Z"
   },
   {
    "duration": 408,
    "start_time": "2023-03-23T15:57:11.648Z"
   },
   {
    "duration": 13,
    "start_time": "2023-03-23T15:57:12.058Z"
   },
   {
    "duration": 56,
    "start_time": "2023-03-23T15:57:12.072Z"
   },
   {
    "duration": 110,
    "start_time": "2023-03-23T15:57:12.130Z"
   },
   {
    "duration": 102,
    "start_time": "2023-03-23T15:57:12.242Z"
   },
   {
    "duration": 14,
    "start_time": "2023-03-23T15:57:12.346Z"
   },
   {
    "duration": 68,
    "start_time": "2023-03-23T15:57:12.362Z"
   },
   {
    "duration": 71,
    "start_time": "2023-03-23T15:57:12.432Z"
   },
   {
    "duration": 42,
    "start_time": "2023-03-23T15:57:12.505Z"
   },
   {
    "duration": 21,
    "start_time": "2023-03-23T15:57:12.549Z"
   },
   {
    "duration": 52,
    "start_time": "2023-03-23T15:57:12.571Z"
   },
   {
    "duration": 91,
    "start_time": "2023-03-23T15:57:12.625Z"
   },
   {
    "duration": 112,
    "start_time": "2023-03-23T15:57:12.717Z"
   },
   {
    "duration": 25,
    "start_time": "2023-03-23T15:57:12.831Z"
   },
   {
    "duration": 54,
    "start_time": "2023-03-23T15:57:12.858Z"
   },
   {
    "duration": 63,
    "start_time": "2023-03-23T15:57:12.914Z"
   },
   {
    "duration": 26,
    "start_time": "2023-03-23T15:57:12.979Z"
   },
   {
    "duration": 173,
    "start_time": "2023-03-23T15:57:13.007Z"
   },
   {
    "duration": 6,
    "start_time": "2023-03-23T15:59:07.243Z"
   },
   {
    "duration": 12,
    "start_time": "2023-03-23T15:59:08.263Z"
   },
   {
    "duration": 13,
    "start_time": "2023-03-23T16:00:59.407Z"
   },
   {
    "duration": 6,
    "start_time": "2023-03-23T16:02:28.691Z"
   },
   {
    "duration": 20,
    "start_time": "2023-03-23T16:02:29.222Z"
   },
   {
    "duration": 5,
    "start_time": "2023-03-23T16:03:51.117Z"
   },
   {
    "duration": 13,
    "start_time": "2023-03-23T16:03:51.602Z"
   },
   {
    "duration": 13,
    "start_time": "2023-03-23T16:10:34.517Z"
   },
   {
    "duration": 10,
    "start_time": "2023-03-23T16:10:36.827Z"
   },
   {
    "duration": 1470,
    "start_time": "2023-03-23T16:11:00.957Z"
   },
   {
    "duration": 402,
    "start_time": "2023-03-23T16:11:02.429Z"
   },
   {
    "duration": 14,
    "start_time": "2023-03-23T16:11:02.833Z"
   },
   {
    "duration": 17,
    "start_time": "2023-03-23T16:11:02.849Z"
   },
   {
    "duration": 59,
    "start_time": "2023-03-23T16:11:02.867Z"
   },
   {
    "duration": 64,
    "start_time": "2023-03-23T16:11:02.927Z"
   },
   {
    "duration": 10,
    "start_time": "2023-03-23T16:11:02.993Z"
   },
   {
    "duration": 39,
    "start_time": "2023-03-23T16:11:03.005Z"
   },
   {
    "duration": 36,
    "start_time": "2023-03-23T16:11:03.046Z"
   },
   {
    "duration": 44,
    "start_time": "2023-03-23T16:11:03.084Z"
   },
   {
    "duration": 10,
    "start_time": "2023-03-23T16:11:03.130Z"
   },
   {
    "duration": 28,
    "start_time": "2023-03-23T16:11:03.142Z"
   },
   {
    "duration": 52,
    "start_time": "2023-03-23T16:11:03.173Z"
   },
   {
    "duration": 46,
    "start_time": "2023-03-23T16:11:03.227Z"
   },
   {
    "duration": 17,
    "start_time": "2023-03-23T16:11:03.290Z"
   },
   {
    "duration": 17,
    "start_time": "2023-03-23T16:11:03.309Z"
   },
   {
    "duration": 21,
    "start_time": "2023-03-23T16:11:03.328Z"
   },
   {
    "duration": 8,
    "start_time": "2023-03-23T16:11:03.350Z"
   },
   {
    "duration": 147,
    "start_time": "2023-03-23T16:11:03.359Z"
   },
   {
    "duration": 0,
    "start_time": "2023-03-23T16:11:03.507Z"
   },
   {
    "duration": 0,
    "start_time": "2023-03-23T16:11:03.509Z"
   },
   {
    "duration": 0,
    "start_time": "2023-03-23T16:11:03.511Z"
   },
   {
    "duration": 0,
    "start_time": "2023-03-23T16:11:03.512Z"
   },
   {
    "duration": 0,
    "start_time": "2023-03-23T16:11:03.514Z"
   },
   {
    "duration": 0,
    "start_time": "2023-03-23T16:11:03.515Z"
   },
   {
    "duration": 11,
    "start_time": "2023-03-23T16:11:33.307Z"
   },
   {
    "duration": 20,
    "start_time": "2023-03-23T16:11:58.791Z"
   },
   {
    "duration": 7,
    "start_time": "2023-03-23T16:12:03.019Z"
   },
   {
    "duration": 9,
    "start_time": "2023-03-23T16:12:03.682Z"
   },
   {
    "duration": 14,
    "start_time": "2023-03-23T16:12:20.683Z"
   },
   {
    "duration": 6,
    "start_time": "2023-03-23T16:12:22.638Z"
   },
   {
    "duration": 10,
    "start_time": "2023-03-23T16:12:25.658Z"
   },
   {
    "duration": 19,
    "start_time": "2023-03-23T16:12:38.917Z"
   },
   {
    "duration": 12,
    "start_time": "2023-03-23T16:12:42.825Z"
   },
   {
    "duration": 4,
    "start_time": "2023-03-23T16:13:21.946Z"
   },
   {
    "duration": 3,
    "start_time": "2023-03-23T16:13:24.298Z"
   },
   {
    "duration": 1444,
    "start_time": "2023-03-23T16:13:41.163Z"
   },
   {
    "duration": 427,
    "start_time": "2023-03-23T16:13:42.610Z"
   },
   {
    "duration": 14,
    "start_time": "2023-03-23T16:13:43.039Z"
   },
   {
    "duration": 35,
    "start_time": "2023-03-23T16:13:43.055Z"
   },
   {
    "duration": 54,
    "start_time": "2023-03-23T16:13:43.092Z"
   },
   {
    "duration": 60,
    "start_time": "2023-03-23T16:13:43.148Z"
   },
   {
    "duration": 10,
    "start_time": "2023-03-23T16:13:43.209Z"
   },
   {
    "duration": 16,
    "start_time": "2023-03-23T16:13:43.221Z"
   },
   {
    "duration": 56,
    "start_time": "2023-03-23T16:13:43.239Z"
   },
   {
    "duration": 45,
    "start_time": "2023-03-23T16:13:43.298Z"
   },
   {
    "duration": 9,
    "start_time": "2023-03-23T16:13:43.345Z"
   },
   {
    "duration": 36,
    "start_time": "2023-03-23T16:13:43.356Z"
   },
   {
    "duration": 37,
    "start_time": "2023-03-23T16:13:43.393Z"
   },
   {
    "duration": 62,
    "start_time": "2023-03-23T16:13:43.432Z"
   },
   {
    "duration": 17,
    "start_time": "2023-03-23T16:13:43.496Z"
   },
   {
    "duration": 18,
    "start_time": "2023-03-23T16:13:43.514Z"
   },
   {
    "duration": 18,
    "start_time": "2023-03-23T16:13:43.534Z"
   },
   {
    "duration": 6,
    "start_time": "2023-03-23T16:13:43.554Z"
   },
   {
    "duration": 40,
    "start_time": "2023-03-23T16:13:43.562Z"
   },
   {
    "duration": 84,
    "start_time": "2023-03-23T16:13:43.605Z"
   },
   {
    "duration": 102,
    "start_time": "2023-03-23T16:13:43.693Z"
   },
   {
    "duration": 10,
    "start_time": "2023-03-23T16:13:43.797Z"
   },
   {
    "duration": 103,
    "start_time": "2023-03-23T16:13:43.890Z"
   },
   {
    "duration": 6,
    "start_time": "2023-03-23T16:13:43.995Z"
   },
   {
    "duration": 88,
    "start_time": "2023-03-23T16:13:44.003Z"
   },
   {
    "duration": 47,
    "start_time": "2023-03-23T16:14:19.513Z"
   },
   {
    "duration": 49,
    "start_time": "2023-03-23T16:14:41.560Z"
   },
   {
    "duration": 5,
    "start_time": "2023-03-23T16:15:18.289Z"
   },
   {
    "duration": 5,
    "start_time": "2023-03-23T16:16:59.377Z"
   },
   {
    "duration": 4,
    "start_time": "2023-03-23T16:17:54.428Z"
   },
   {
    "duration": 112,
    "start_time": "2023-03-23T16:19:25.934Z"
   },
   {
    "duration": 4,
    "start_time": "2023-03-23T16:19:37.120Z"
   },
   {
    "duration": 4,
    "start_time": "2023-03-23T16:19:37.864Z"
   },
   {
    "duration": 4,
    "start_time": "2023-03-23T16:19:43.501Z"
   },
   {
    "duration": 5,
    "start_time": "2023-03-23T16:19:48.586Z"
   },
   {
    "duration": 11,
    "start_time": "2023-03-23T16:24:40.628Z"
   },
   {
    "duration": 5,
    "start_time": "2023-03-23T16:25:40.936Z"
   },
   {
    "duration": 9,
    "start_time": "2023-03-23T16:26:17.328Z"
   },
   {
    "duration": 8,
    "start_time": "2023-03-23T16:26:39.196Z"
   },
   {
    "duration": 10,
    "start_time": "2023-03-23T16:26:56.699Z"
   },
   {
    "duration": 12,
    "start_time": "2023-03-23T16:28:07.083Z"
   },
   {
    "duration": 1326,
    "start_time": "2023-03-23T16:28:13.909Z"
   },
   {
    "duration": 398,
    "start_time": "2023-03-23T16:28:15.237Z"
   },
   {
    "duration": 14,
    "start_time": "2023-03-23T16:28:15.637Z"
   },
   {
    "duration": 14,
    "start_time": "2023-03-23T16:28:15.653Z"
   },
   {
    "duration": 57,
    "start_time": "2023-03-23T16:28:15.669Z"
   },
   {
    "duration": 62,
    "start_time": "2023-03-23T16:28:15.728Z"
   },
   {
    "duration": 10,
    "start_time": "2023-03-23T16:28:15.792Z"
   },
   {
    "duration": 24,
    "start_time": "2023-03-23T16:28:15.803Z"
   },
   {
    "duration": 39,
    "start_time": "2023-03-23T16:28:15.829Z"
   },
   {
    "duration": 59,
    "start_time": "2023-03-23T16:28:15.870Z"
   },
   {
    "duration": 11,
    "start_time": "2023-03-23T16:28:15.931Z"
   },
   {
    "duration": 18,
    "start_time": "2023-03-23T16:28:15.943Z"
   },
   {
    "duration": 59,
    "start_time": "2023-03-23T16:28:15.963Z"
   },
   {
    "duration": 65,
    "start_time": "2023-03-23T16:28:16.026Z"
   },
   {
    "duration": 17,
    "start_time": "2023-03-23T16:28:16.093Z"
   },
   {
    "duration": 19,
    "start_time": "2023-03-23T16:28:16.112Z"
   },
   {
    "duration": 19,
    "start_time": "2023-03-23T16:28:16.133Z"
   },
   {
    "duration": 9,
    "start_time": "2023-03-23T16:28:16.154Z"
   },
   {
    "duration": 26,
    "start_time": "2023-03-23T16:28:16.190Z"
   },
   {
    "duration": 81,
    "start_time": "2023-03-23T16:28:16.219Z"
   },
   {
    "duration": 20,
    "start_time": "2023-03-23T16:28:16.389Z"
   },
   {
    "duration": 89,
    "start_time": "2023-03-23T16:28:16.411Z"
   },
   {
    "duration": 43,
    "start_time": "2023-03-23T16:28:16.588Z"
   },
   {
    "duration": 67,
    "start_time": "2023-03-23T16:28:16.633Z"
   },
   {
    "duration": 91,
    "start_time": "2023-03-23T16:28:16.703Z"
   },
   {
    "duration": 21,
    "start_time": "2023-03-23T16:28:16.796Z"
   },
   {
    "duration": 20,
    "start_time": "2023-03-23T16:28:16.819Z"
   },
   {
    "duration": 10,
    "start_time": "2023-03-23T16:28:16.841Z"
   },
   {
    "duration": 39,
    "start_time": "2023-03-23T16:28:16.853Z"
   },
   {
    "duration": 34,
    "start_time": "2023-03-23T16:28:16.894Z"
   },
   {
    "duration": 8,
    "start_time": "2023-03-23T16:36:46.367Z"
   },
   {
    "duration": 8,
    "start_time": "2023-03-23T16:37:09.343Z"
   },
   {
    "duration": 10,
    "start_time": "2023-03-23T16:38:11.784Z"
   },
   {
    "duration": 7,
    "start_time": "2023-03-23T16:38:22.696Z"
   },
   {
    "duration": 4,
    "start_time": "2023-03-23T16:38:40.360Z"
   },
   {
    "duration": 1769,
    "start_time": "2023-03-23T16:39:07.565Z"
   },
   {
    "duration": 530,
    "start_time": "2023-03-23T16:39:09.336Z"
   },
   {
    "duration": 22,
    "start_time": "2023-03-23T16:39:09.868Z"
   },
   {
    "duration": 28,
    "start_time": "2023-03-23T16:39:09.893Z"
   },
   {
    "duration": 41,
    "start_time": "2023-03-23T16:39:09.923Z"
   },
   {
    "duration": 76,
    "start_time": "2023-03-23T16:39:09.990Z"
   },
   {
    "duration": 24,
    "start_time": "2023-03-23T16:39:10.068Z"
   },
   {
    "duration": 31,
    "start_time": "2023-03-23T16:39:10.094Z"
   },
   {
    "duration": 65,
    "start_time": "2023-03-23T16:39:10.127Z"
   },
   {
    "duration": 78,
    "start_time": "2023-03-23T16:39:10.194Z"
   },
   {
    "duration": 12,
    "start_time": "2023-03-23T16:39:10.289Z"
   },
   {
    "duration": 38,
    "start_time": "2023-03-23T16:39:10.304Z"
   },
   {
    "duration": 72,
    "start_time": "2023-03-23T16:39:10.345Z"
   },
   {
    "duration": 71,
    "start_time": "2023-03-23T16:39:10.421Z"
   },
   {
    "duration": 19,
    "start_time": "2023-03-23T16:39:10.494Z"
   },
   {
    "duration": 20,
    "start_time": "2023-03-23T16:39:10.516Z"
   },
   {
    "duration": 19,
    "start_time": "2023-03-23T16:39:10.538Z"
   },
   {
    "duration": 33,
    "start_time": "2023-03-23T16:39:10.558Z"
   },
   {
    "duration": 95,
    "start_time": "2023-03-23T16:39:10.594Z"
   },
   {
    "duration": 10,
    "start_time": "2023-03-23T16:39:10.692Z"
   },
   {
    "duration": 108,
    "start_time": "2023-03-23T16:39:10.704Z"
   },
   {
    "duration": 7,
    "start_time": "2023-03-23T16:39:10.814Z"
   },
   {
    "duration": 104,
    "start_time": "2023-03-23T16:39:10.890Z"
   },
   {
    "duration": 10,
    "start_time": "2023-03-23T16:39:10.996Z"
   },
   {
    "duration": 9,
    "start_time": "2023-03-23T16:39:11.090Z"
   },
   {
    "duration": 99,
    "start_time": "2023-03-23T16:39:11.101Z"
   },
   {
    "duration": 327,
    "start_time": "2023-03-23T16:44:28.959Z"
   },
   {
    "duration": 288,
    "start_time": "2023-03-23T16:45:13.758Z"
   },
   {
    "duration": 369,
    "start_time": "2023-03-23T16:45:44.557Z"
   },
   {
    "duration": 263,
    "start_time": "2023-03-23T16:46:03.446Z"
   },
   {
    "duration": 7,
    "start_time": "2023-03-23T16:55:55.959Z"
   },
   {
    "duration": 12,
    "start_time": "2023-03-23T16:56:19.339Z"
   },
   {
    "duration": 57,
    "start_time": "2023-03-23T16:58:28.208Z"
   },
   {
    "duration": 46,
    "start_time": "2023-03-23T16:59:12.186Z"
   },
   {
    "duration": 13,
    "start_time": "2023-03-23T16:59:25.310Z"
   },
   {
    "duration": 44,
    "start_time": "2023-03-23T16:59:33.463Z"
   },
   {
    "duration": 12,
    "start_time": "2023-03-23T16:59:49.525Z"
   },
   {
    "duration": 13,
    "start_time": "2023-03-23T17:00:27.419Z"
   },
   {
    "duration": 13,
    "start_time": "2023-03-23T17:01:09.132Z"
   },
   {
    "duration": 13,
    "start_time": "2023-03-24T10:39:43.868Z"
   },
   {
    "duration": 6,
    "start_time": "2023-03-24T10:57:35.613Z"
   },
   {
    "duration": 88,
    "start_time": "2023-03-24T10:57:55.953Z"
   },
   {
    "duration": 2402,
    "start_time": "2023-03-24T10:58:40.670Z"
   },
   {
    "duration": 1466,
    "start_time": "2023-03-24T10:58:43.075Z"
   },
   {
    "duration": 30,
    "start_time": "2023-03-24T10:58:44.549Z"
   },
   {
    "duration": 52,
    "start_time": "2023-03-24T10:58:44.586Z"
   },
   {
    "duration": 81,
    "start_time": "2023-03-24T10:58:44.641Z"
   },
   {
    "duration": 90,
    "start_time": "2023-03-24T10:58:44.725Z"
   },
   {
    "duration": 586,
    "start_time": "2023-03-24T10:58:44.821Z"
   },
   {
    "duration": 11,
    "start_time": "2023-03-24T10:58:45.409Z"
   },
   {
    "duration": 43,
    "start_time": "2023-03-24T10:58:45.422Z"
   },
   {
    "duration": 53,
    "start_time": "2023-03-24T10:58:45.467Z"
   },
   {
    "duration": 48,
    "start_time": "2023-03-24T10:58:45.522Z"
   },
   {
    "duration": 89,
    "start_time": "2023-03-24T10:58:45.572Z"
   },
   {
    "duration": 465,
    "start_time": "2023-03-24T10:58:45.664Z"
   },
   {
    "duration": 17,
    "start_time": "2023-03-24T10:58:46.135Z"
   },
   {
    "duration": 72,
    "start_time": "2023-03-24T10:58:46.154Z"
   },
   {
    "duration": 99,
    "start_time": "2023-03-24T10:58:46.228Z"
   },
   {
    "duration": 66,
    "start_time": "2023-03-24T10:58:46.330Z"
   },
   {
    "duration": 137,
    "start_time": "2023-03-24T10:58:46.398Z"
   },
   {
    "duration": 586,
    "start_time": "2023-03-24T10:58:46.538Z"
   },
   {
    "duration": 29,
    "start_time": "2023-03-24T10:58:47.128Z"
   },
   {
    "duration": 56,
    "start_time": "2023-03-24T10:58:47.162Z"
   },
   {
    "duration": 95,
    "start_time": "2023-03-24T10:58:47.220Z"
   },
   {
    "duration": 33,
    "start_time": "2023-03-24T10:58:47.317Z"
   },
   {
    "duration": 64,
    "start_time": "2023-03-24T10:58:47.355Z"
   },
   {
    "duration": 87,
    "start_time": "2023-03-24T10:58:47.421Z"
   },
   {
    "duration": 82,
    "start_time": "2023-03-24T10:58:47.552Z"
   },
   {
    "duration": 77,
    "start_time": "2023-03-24T10:58:47.643Z"
   },
   {
    "duration": 141,
    "start_time": "2023-03-24T10:58:47.723Z"
   },
   {
    "duration": 84,
    "start_time": "2023-03-24T10:58:47.877Z"
   },
   {
    "duration": 168,
    "start_time": "2023-03-24T10:58:47.963Z"
   },
   {
    "duration": 86,
    "start_time": "2023-03-24T10:58:48.142Z"
   },
   {
    "duration": 116,
    "start_time": "2023-03-24T10:58:48.231Z"
   },
   {
    "duration": 67,
    "start_time": "2023-03-24T10:58:48.349Z"
   },
   {
    "duration": 11,
    "start_time": "2023-03-24T10:58:48.418Z"
   },
   {
    "duration": 79,
    "start_time": "2023-03-24T10:58:48.432Z"
   },
   {
    "duration": 14,
    "start_time": "2023-03-24T14:53:34.210Z"
   },
   {
    "duration": 4,
    "start_time": "2023-03-24T14:55:26.058Z"
   },
   {
    "duration": 75,
    "start_time": "2023-03-24T14:55:26.532Z"
   },
   {
    "duration": 1774,
    "start_time": "2023-03-24T14:55:43.347Z"
   },
   {
    "duration": 911,
    "start_time": "2023-03-24T14:55:45.123Z"
   },
   {
    "duration": 26,
    "start_time": "2023-03-24T14:55:46.037Z"
   },
   {
    "duration": 29,
    "start_time": "2023-03-24T14:55:46.067Z"
   },
   {
    "duration": 77,
    "start_time": "2023-03-24T14:55:46.098Z"
   },
   {
    "duration": 113,
    "start_time": "2023-03-24T14:55:46.179Z"
   },
   {
    "duration": 400,
    "start_time": "2023-03-24T14:55:46.295Z"
   },
   {
    "duration": 16,
    "start_time": "2023-03-24T14:55:46.699Z"
   },
   {
    "duration": 29,
    "start_time": "2023-03-24T14:55:46.718Z"
   },
   {
    "duration": 30,
    "start_time": "2023-03-24T14:55:46.754Z"
   },
   {
    "duration": 42,
    "start_time": "2023-03-24T14:55:46.786Z"
   },
   {
    "duration": 80,
    "start_time": "2023-03-24T14:55:46.842Z"
   },
   {
    "duration": 353,
    "start_time": "2023-03-24T14:55:46.925Z"
   },
   {
    "duration": 11,
    "start_time": "2023-03-24T14:55:47.279Z"
   },
   {
    "duration": 21,
    "start_time": "2023-03-24T14:55:47.291Z"
   },
   {
    "duration": 31,
    "start_time": "2023-03-24T14:55:47.314Z"
   },
   {
    "duration": 49,
    "start_time": "2023-03-24T14:55:47.348Z"
   },
   {
    "duration": 82,
    "start_time": "2023-03-24T14:55:47.399Z"
   },
   {
    "duration": 465,
    "start_time": "2023-03-24T14:55:47.483Z"
   },
   {
    "duration": 15,
    "start_time": "2023-03-24T14:55:47.950Z"
   },
   {
    "duration": 31,
    "start_time": "2023-03-24T14:55:47.968Z"
   },
   {
    "duration": 62,
    "start_time": "2023-03-24T14:55:48.002Z"
   },
   {
    "duration": 35,
    "start_time": "2023-03-24T14:55:48.066Z"
   },
   {
    "duration": 8,
    "start_time": "2023-03-24T14:55:48.104Z"
   },
   {
    "duration": 51,
    "start_time": "2023-03-24T14:55:48.115Z"
   },
   {
    "duration": 78,
    "start_time": "2023-03-24T14:55:48.168Z"
   },
   {
    "duration": 125,
    "start_time": "2023-03-24T14:55:48.248Z"
   },
   {
    "duration": 60,
    "start_time": "2023-03-24T14:55:48.383Z"
   },
   {
    "duration": 112,
    "start_time": "2023-03-24T14:55:48.445Z"
   },
   {
    "duration": 7,
    "start_time": "2023-03-24T14:55:48.560Z"
   },
   {
    "duration": 89,
    "start_time": "2023-03-24T14:55:48.569Z"
   },
   {
    "duration": 100,
    "start_time": "2023-03-24T14:55:48.660Z"
   },
   {
    "duration": 22,
    "start_time": "2023-03-24T14:55:48.762Z"
   },
   {
    "duration": 12,
    "start_time": "2023-03-24T14:55:48.787Z"
   },
   {
    "duration": 21,
    "start_time": "2023-03-24T14:55:48.802Z"
   },
   {
    "duration": 10,
    "start_time": "2023-03-24T14:55:48.826Z"
   },
   {
    "duration": 14,
    "start_time": "2023-03-24T14:55:48.838Z"
   },
   {
    "duration": 16,
    "start_time": "2023-03-24T14:55:48.854Z"
   },
   {
    "duration": 129,
    "start_time": "2023-03-24T14:55:48.872Z"
   },
   {
    "duration": 6,
    "start_time": "2023-03-24T14:56:58.456Z"
   },
   {
    "duration": 4,
    "start_time": "2023-03-24T14:56:59.155Z"
   },
   {
    "duration": 6,
    "start_time": "2023-03-24T14:56:59.971Z"
   },
   {
    "duration": 17,
    "start_time": "2023-03-24T14:57:01.632Z"
   },
   {
    "duration": 5,
    "start_time": "2023-03-24T15:16:06.883Z"
   },
   {
    "duration": 4,
    "start_time": "2023-03-24T15:16:09.575Z"
   },
   {
    "duration": 5,
    "start_time": "2023-03-24T15:17:47.368Z"
   },
   {
    "duration": 16,
    "start_time": "2023-03-24T15:18:28.945Z"
   },
   {
    "duration": 14,
    "start_time": "2023-03-24T15:19:39.873Z"
   },
   {
    "duration": 29,
    "start_time": "2023-03-24T15:21:55.759Z"
   },
   {
    "duration": 4,
    "start_time": "2023-03-24T16:11:18.520Z"
   },
   {
    "duration": 9,
    "start_time": "2023-03-24T16:11:19.576Z"
   },
   {
    "duration": 4,
    "start_time": "2023-03-24T16:12:55.672Z"
   },
   {
    "duration": 9,
    "start_time": "2023-03-24T16:12:56.359Z"
   },
   {
    "duration": 10,
    "start_time": "2023-03-24T16:13:31.361Z"
   },
   {
    "duration": 15,
    "start_time": "2023-03-24T16:14:01.874Z"
   },
   {
    "duration": 4,
    "start_time": "2023-03-24T16:14:09.359Z"
   },
   {
    "duration": 12,
    "start_time": "2023-03-24T16:14:14.086Z"
   },
   {
    "duration": 4,
    "start_time": "2023-03-24T16:14:16.182Z"
   },
   {
    "duration": 4,
    "start_time": "2023-03-24T16:52:15.633Z"
   },
   {
    "duration": 1525,
    "start_time": "2023-03-24T16:56:03.654Z"
   },
   {
    "duration": 436,
    "start_time": "2023-03-24T16:56:05.182Z"
   },
   {
    "duration": 15,
    "start_time": "2023-03-24T16:56:05.620Z"
   },
   {
    "duration": 18,
    "start_time": "2023-03-24T16:56:05.636Z"
   },
   {
    "duration": 39,
    "start_time": "2023-03-24T16:56:05.657Z"
   },
   {
    "duration": 76,
    "start_time": "2023-03-24T16:56:05.698Z"
   },
   {
    "duration": 395,
    "start_time": "2023-03-24T16:56:05.776Z"
   },
   {
    "duration": 11,
    "start_time": "2023-03-24T16:56:06.173Z"
   },
   {
    "duration": 34,
    "start_time": "2023-03-24T16:56:06.186Z"
   },
   {
    "duration": 35,
    "start_time": "2023-03-24T16:56:06.222Z"
   },
   {
    "duration": 169,
    "start_time": "2023-03-24T16:56:06.259Z"
   },
   {
    "duration": 53,
    "start_time": "2023-03-24T16:56:06.429Z"
   },
   {
    "duration": 338,
    "start_time": "2023-03-24T16:56:06.484Z"
   },
   {
    "duration": 20,
    "start_time": "2023-03-24T16:56:06.826Z"
   },
   {
    "duration": 10,
    "start_time": "2023-03-24T16:56:06.848Z"
   },
   {
    "duration": 22,
    "start_time": "2023-03-24T16:56:06.860Z"
   },
   {
    "duration": 38,
    "start_time": "2023-03-24T16:56:06.884Z"
   },
   {
    "duration": 65,
    "start_time": "2023-03-24T16:56:06.924Z"
   },
   {
    "duration": 421,
    "start_time": "2023-03-24T16:56:06.991Z"
   },
   {
    "duration": 10,
    "start_time": "2023-03-24T16:56:07.414Z"
   },
   {
    "duration": 29,
    "start_time": "2023-03-24T16:56:07.426Z"
   },
   {
    "duration": 19,
    "start_time": "2023-03-24T16:56:07.457Z"
   },
   {
    "duration": 22,
    "start_time": "2023-03-24T16:56:07.478Z"
   },
   {
    "duration": 8,
    "start_time": "2023-03-24T16:56:07.502Z"
   },
   {
    "duration": 40,
    "start_time": "2023-03-24T16:56:07.512Z"
   },
   {
    "duration": 93,
    "start_time": "2023-03-24T16:56:07.553Z"
   },
   {
    "duration": 112,
    "start_time": "2023-03-24T16:56:07.649Z"
   },
   {
    "duration": 80,
    "start_time": "2023-03-24T16:56:07.764Z"
   },
   {
    "duration": 123,
    "start_time": "2023-03-24T16:56:07.846Z"
   },
   {
    "duration": 77,
    "start_time": "2023-03-24T16:56:07.972Z"
   },
   {
    "duration": 94,
    "start_time": "2023-03-24T16:56:08.051Z"
   },
   {
    "duration": 24,
    "start_time": "2023-03-24T16:56:08.147Z"
   },
   {
    "duration": 22,
    "start_time": "2023-03-24T16:56:08.173Z"
   },
   {
    "duration": 9,
    "start_time": "2023-03-24T16:56:08.197Z"
   },
   {
    "duration": 19,
    "start_time": "2023-03-24T16:56:08.208Z"
   },
   {
    "duration": 10,
    "start_time": "2023-03-24T16:56:08.229Z"
   },
   {
    "duration": 1794,
    "start_time": "2023-03-26T11:46:39.614Z"
   },
   {
    "duration": 1744,
    "start_time": "2023-03-26T11:46:41.410Z"
   },
   {
    "duration": 13,
    "start_time": "2023-03-26T11:46:43.155Z"
   },
   {
    "duration": 19,
    "start_time": "2023-03-26T11:46:43.170Z"
   },
   {
    "duration": 39,
    "start_time": "2023-03-26T11:46:43.190Z"
   },
   {
    "duration": 44,
    "start_time": "2023-03-26T11:46:43.232Z"
   },
   {
    "duration": 332,
    "start_time": "2023-03-26T11:46:43.277Z"
   },
   {
    "duration": 9,
    "start_time": "2023-03-26T11:46:43.611Z"
   },
   {
    "duration": 9,
    "start_time": "2023-03-26T11:46:43.622Z"
   },
   {
    "duration": 14,
    "start_time": "2023-03-26T11:46:43.633Z"
   },
   {
    "duration": 64,
    "start_time": "2023-03-26T11:46:43.648Z"
   },
   {
    "duration": 43,
    "start_time": "2023-03-26T11:46:43.714Z"
   },
   {
    "duration": 322,
    "start_time": "2023-03-26T11:46:43.758Z"
   },
   {
    "duration": 10,
    "start_time": "2023-03-26T11:46:44.082Z"
   },
   {
    "duration": 11,
    "start_time": "2023-03-26T11:46:44.103Z"
   },
   {
    "duration": 16,
    "start_time": "2023-03-26T11:46:44.116Z"
   },
   {
    "duration": 34,
    "start_time": "2023-03-26T11:46:44.134Z"
   },
   {
    "duration": 69,
    "start_time": "2023-03-26T11:46:44.170Z"
   },
   {
    "duration": 381,
    "start_time": "2023-03-26T11:46:44.241Z"
   },
   {
    "duration": 9,
    "start_time": "2023-03-26T11:46:44.623Z"
   },
   {
    "duration": 15,
    "start_time": "2023-03-26T11:46:44.634Z"
   },
   {
    "duration": 16,
    "start_time": "2023-03-26T11:46:44.651Z"
   },
   {
    "duration": 38,
    "start_time": "2023-03-26T11:46:44.669Z"
   },
   {
    "duration": 7,
    "start_time": "2023-03-26T11:46:44.709Z"
   },
   {
    "duration": 85,
    "start_time": "2023-03-26T11:46:44.718Z"
   },
   {
    "duration": 7,
    "start_time": "2023-03-26T11:46:44.805Z"
   },
   {
    "duration": 96,
    "start_time": "2023-03-26T11:46:44.814Z"
   },
   {
    "duration": 89,
    "start_time": "2023-03-26T11:46:44.914Z"
   },
   {
    "duration": 115,
    "start_time": "2023-03-26T11:46:45.006Z"
   },
   {
    "duration": 80,
    "start_time": "2023-03-26T11:46:45.123Z"
   },
   {
    "duration": 102,
    "start_time": "2023-03-26T11:46:45.206Z"
   },
   {
    "duration": 14,
    "start_time": "2023-03-26T11:46:45.310Z"
   },
   {
    "duration": 6,
    "start_time": "2023-03-26T11:46:45.325Z"
   },
   {
    "duration": 6,
    "start_time": "2023-03-26T11:46:45.333Z"
   },
   {
    "duration": 12,
    "start_time": "2023-03-26T11:46:45.340Z"
   },
   {
    "duration": 4,
    "start_time": "2023-03-26T11:46:45.354Z"
   },
   {
    "duration": 5,
    "start_time": "2023-03-26T11:46:45.359Z"
   },
   {
    "duration": 1291,
    "start_time": "2023-03-26T11:47:12.253Z"
   },
   {
    "duration": 377,
    "start_time": "2023-03-26T11:47:13.546Z"
   },
   {
    "duration": 14,
    "start_time": "2023-03-26T11:47:13.925Z"
   },
   {
    "duration": 18,
    "start_time": "2023-03-26T11:47:13.941Z"
   },
   {
    "duration": 54,
    "start_time": "2023-03-26T11:47:13.960Z"
   },
   {
    "duration": 50,
    "start_time": "2023-03-26T11:47:14.016Z"
   },
   {
    "duration": 319,
    "start_time": "2023-03-26T11:47:14.068Z"
   },
   {
    "duration": 20,
    "start_time": "2023-03-26T11:47:14.388Z"
   },
   {
    "duration": 9,
    "start_time": "2023-03-26T11:47:14.409Z"
   },
   {
    "duration": 35,
    "start_time": "2023-03-26T11:47:14.421Z"
   },
   {
    "duration": 45,
    "start_time": "2023-03-26T11:47:14.458Z"
   },
   {
    "duration": 42,
    "start_time": "2023-03-26T11:47:14.504Z"
   },
   {
    "duration": 304,
    "start_time": "2023-03-26T11:47:14.548Z"
   },
   {
    "duration": 11,
    "start_time": "2023-03-26T11:47:14.855Z"
   },
   {
    "duration": 10,
    "start_time": "2023-03-26T11:47:14.867Z"
   },
   {
    "duration": 37,
    "start_time": "2023-03-26T11:47:14.879Z"
   },
   {
    "duration": 34,
    "start_time": "2023-03-26T11:47:14.918Z"
   },
   {
    "duration": 62,
    "start_time": "2023-03-26T11:47:14.954Z"
   },
   {
    "duration": 377,
    "start_time": "2023-03-26T11:47:15.017Z"
   },
   {
    "duration": 16,
    "start_time": "2023-03-26T11:47:15.396Z"
   },
   {
    "duration": 24,
    "start_time": "2023-03-26T11:47:15.414Z"
   },
   {
    "duration": 16,
    "start_time": "2023-03-26T11:47:15.440Z"
   },
   {
    "duration": 17,
    "start_time": "2023-03-26T11:47:15.457Z"
   },
   {
    "duration": 29,
    "start_time": "2023-03-26T11:47:15.476Z"
   },
   {
    "duration": 18,
    "start_time": "2023-03-26T11:47:15.507Z"
   },
   {
    "duration": 85,
    "start_time": "2023-03-26T11:47:15.526Z"
   },
   {
    "duration": 102,
    "start_time": "2023-03-26T11:47:15.613Z"
   },
   {
    "duration": 90,
    "start_time": "2023-03-26T11:47:15.719Z"
   },
   {
    "duration": 99,
    "start_time": "2023-03-26T11:47:15.812Z"
   },
   {
    "duration": 7,
    "start_time": "2023-03-26T11:47:15.916Z"
   },
   {
    "duration": 100,
    "start_time": "2023-03-26T11:47:16.003Z"
   },
   {
    "duration": 11,
    "start_time": "2023-03-26T11:47:16.105Z"
   },
   {
    "duration": 8,
    "start_time": "2023-03-26T11:47:16.118Z"
   },
   {
    "duration": 133,
    "start_time": "2023-03-26T11:47:16.128Z"
   },
   {
    "duration": 0,
    "start_time": "2023-03-26T11:47:16.262Z"
   },
   {
    "duration": 0,
    "start_time": "2023-03-26T11:47:16.264Z"
   },
   {
    "duration": 0,
    "start_time": "2023-03-26T11:47:16.265Z"
   },
   {
    "duration": 4,
    "start_time": "2023-03-26T11:48:02.809Z"
   },
   {
    "duration": 4,
    "start_time": "2023-03-26T11:48:09.135Z"
   },
   {
    "duration": 4,
    "start_time": "2023-03-26T11:48:11.449Z"
   },
   {
    "duration": 4,
    "start_time": "2023-03-26T12:01:53.175Z"
   },
   {
    "duration": 3,
    "start_time": "2023-03-26T12:01:54.238Z"
   },
   {
    "duration": 5,
    "start_time": "2023-03-26T12:01:55.056Z"
   },
   {
    "duration": 11,
    "start_time": "2023-03-26T12:01:55.793Z"
   },
   {
    "duration": 11,
    "start_time": "2023-03-26T12:04:30.745Z"
   },
   {
    "duration": 22,
    "start_time": "2023-03-26T12:05:56.963Z"
   },
   {
    "duration": 4,
    "start_time": "2023-03-26T12:16:54.067Z"
   },
   {
    "duration": 3,
    "start_time": "2023-03-26T12:16:54.689Z"
   },
   {
    "duration": 11,
    "start_time": "2023-03-26T12:20:34.010Z"
   },
   {
    "duration": 4,
    "start_time": "2023-03-26T12:20:38.289Z"
   },
   {
    "duration": 3,
    "start_time": "2023-03-26T12:20:39.008Z"
   },
   {
    "duration": 12,
    "start_time": "2023-03-26T12:20:39.839Z"
   },
   {
    "duration": 22059,
    "start_time": "2023-03-26T12:21:10.756Z"
   },
   {
    "duration": 21725,
    "start_time": "2023-03-26T12:21:46.061Z"
   },
   {
    "duration": 1477,
    "start_time": "2023-03-26T12:24:15.131Z"
   },
   {
    "duration": 396,
    "start_time": "2023-03-26T12:24:16.610Z"
   },
   {
    "duration": 15,
    "start_time": "2023-03-26T12:24:17.008Z"
   },
   {
    "duration": 20,
    "start_time": "2023-03-26T12:24:17.027Z"
   },
   {
    "duration": 74,
    "start_time": "2023-03-26T12:24:17.049Z"
   },
   {
    "duration": 52,
    "start_time": "2023-03-26T12:24:17.126Z"
   },
   {
    "duration": 350,
    "start_time": "2023-03-26T12:24:17.180Z"
   },
   {
    "duration": 12,
    "start_time": "2023-03-26T12:24:17.532Z"
   },
   {
    "duration": 29,
    "start_time": "2023-03-26T12:24:17.545Z"
   },
   {
    "duration": 27,
    "start_time": "2023-03-26T12:24:17.578Z"
   },
   {
    "duration": 51,
    "start_time": "2023-03-26T12:24:17.607Z"
   },
   {
    "duration": 47,
    "start_time": "2023-03-26T12:24:17.661Z"
   },
   {
    "duration": 366,
    "start_time": "2023-03-26T12:24:17.710Z"
   },
   {
    "duration": 10,
    "start_time": "2023-03-26T12:24:18.077Z"
   },
   {
    "duration": 21,
    "start_time": "2023-03-26T12:24:18.089Z"
   },
   {
    "duration": 17,
    "start_time": "2023-03-26T12:24:18.111Z"
   },
   {
    "duration": 34,
    "start_time": "2023-03-26T12:24:18.130Z"
   },
   {
    "duration": 73,
    "start_time": "2023-03-26T12:24:18.166Z"
   },
   {
    "duration": 420,
    "start_time": "2023-03-26T12:24:18.242Z"
   },
   {
    "duration": 11,
    "start_time": "2023-03-26T12:24:18.663Z"
   },
   {
    "duration": 34,
    "start_time": "2023-03-26T12:24:18.676Z"
   },
   {
    "duration": 17,
    "start_time": "2023-03-26T12:24:18.712Z"
   },
   {
    "duration": 18,
    "start_time": "2023-03-26T12:24:18.730Z"
   },
   {
    "duration": 6,
    "start_time": "2023-03-26T12:24:18.750Z"
   },
   {
    "duration": 53,
    "start_time": "2023-03-26T12:24:18.758Z"
   },
   {
    "duration": 7,
    "start_time": "2023-03-26T12:24:18.903Z"
   },
   {
    "duration": 19,
    "start_time": "2023-03-26T12:24:18.912Z"
   },
   {
    "duration": 8,
    "start_time": "2023-03-26T12:24:19.007Z"
   },
   {
    "duration": 19,
    "start_time": "2023-03-26T12:24:19.102Z"
   },
   {
    "duration": 7,
    "start_time": "2023-03-26T12:24:19.123Z"
   },
   {
    "duration": 7,
    "start_time": "2023-03-26T12:24:19.207Z"
   },
   {
    "duration": 11,
    "start_time": "2023-03-26T12:24:19.303Z"
   },
   {
    "duration": 6,
    "start_time": "2023-03-26T12:24:19.315Z"
   },
   {
    "duration": 11,
    "start_time": "2023-03-26T12:24:19.323Z"
   },
   {
    "duration": 5,
    "start_time": "2023-03-26T12:24:19.335Z"
   },
   {
    "duration": 6,
    "start_time": "2023-03-26T12:24:19.342Z"
   },
   {
    "duration": 5,
    "start_time": "2023-03-26T12:24:19.350Z"
   },
   {
    "duration": 22318,
    "start_time": "2023-03-26T12:24:19.357Z"
   },
   {
    "duration": 0,
    "start_time": "2023-03-26T12:24:41.677Z"
   },
   {
    "duration": 0,
    "start_time": "2023-03-26T12:24:41.678Z"
   },
   {
    "duration": 0,
    "start_time": "2023-03-26T12:24:41.679Z"
   },
   {
    "duration": 0,
    "start_time": "2023-03-26T12:24:41.681Z"
   },
   {
    "duration": 0,
    "start_time": "2023-03-26T12:24:41.682Z"
   },
   {
    "duration": 6,
    "start_time": "2023-03-26T12:33:22.331Z"
   },
   {
    "duration": 11,
    "start_time": "2023-03-26T12:33:49.188Z"
   },
   {
    "duration": 14,
    "start_time": "2023-03-26T12:38:02.163Z"
   },
   {
    "duration": 17,
    "start_time": "2023-03-26T12:40:13.174Z"
   },
   {
    "duration": 11,
    "start_time": "2023-03-26T12:40:42.534Z"
   },
   {
    "duration": 22,
    "start_time": "2023-03-26T12:43:09.429Z"
   },
   {
    "duration": 4,
    "start_time": "2023-03-26T12:52:59.093Z"
   },
   {
    "duration": 3,
    "start_time": "2023-03-26T12:52:59.676Z"
   },
   {
    "duration": 6,
    "start_time": "2023-03-26T12:53:00.239Z"
   },
   {
    "duration": 17,
    "start_time": "2023-03-26T12:53:01.263Z"
   },
   {
    "duration": 5,
    "start_time": "2023-03-26T13:01:45.031Z"
   },
   {
    "duration": 3,
    "start_time": "2023-03-26T13:01:46.387Z"
   },
   {
    "duration": 5,
    "start_time": "2023-03-26T13:02:57.836Z"
   },
   {
    "duration": 20,
    "start_time": "2023-03-26T13:04:09.804Z"
   },
   {
    "duration": 5,
    "start_time": "2023-03-26T13:07:09.299Z"
   },
   {
    "duration": 18,
    "start_time": "2023-03-26T13:07:10.062Z"
   },
   {
    "duration": 4,
    "start_time": "2023-03-26T13:09:12.829Z"
   },
   {
    "duration": 14,
    "start_time": "2023-03-26T13:09:13.575Z"
   },
   {
    "duration": 4,
    "start_time": "2023-03-26T13:09:22.259Z"
   },
   {
    "duration": 15,
    "start_time": "2023-03-26T13:09:22.836Z"
   },
   {
    "duration": 148,
    "start_time": "2023-03-28T12:34:06.701Z"
   },
   {
    "duration": 22,
    "start_time": "2023-03-28T12:34:09.071Z"
   },
   {
    "duration": 2108,
    "start_time": "2023-03-28T12:34:15.606Z"
   },
   {
    "duration": 2261,
    "start_time": "2023-03-28T12:34:17.717Z"
   },
   {
    "duration": 21,
    "start_time": "2023-03-28T12:34:19.980Z"
   },
   {
    "duration": 46,
    "start_time": "2023-03-28T12:34:20.005Z"
   },
   {
    "duration": 75,
    "start_time": "2023-03-28T12:34:20.057Z"
   },
   {
    "duration": 76,
    "start_time": "2023-03-28T12:34:20.134Z"
   },
   {
    "duration": 390,
    "start_time": "2023-03-28T12:34:20.213Z"
   },
   {
    "duration": 15,
    "start_time": "2023-03-28T12:34:20.605Z"
   },
   {
    "duration": 67,
    "start_time": "2023-03-28T12:34:20.622Z"
   },
   {
    "duration": 31,
    "start_time": "2023-03-28T12:34:20.694Z"
   },
   {
    "duration": 64,
    "start_time": "2023-03-28T12:34:20.728Z"
   },
   {
    "duration": 105,
    "start_time": "2023-03-28T12:34:20.795Z"
   },
   {
    "duration": 432,
    "start_time": "2023-03-28T12:34:20.903Z"
   },
   {
    "duration": 11,
    "start_time": "2023-03-28T12:34:21.337Z"
   },
   {
    "duration": 87,
    "start_time": "2023-03-28T12:34:21.351Z"
   },
   {
    "duration": 89,
    "start_time": "2023-03-28T12:34:21.443Z"
   },
   {
    "duration": 61,
    "start_time": "2023-03-28T12:34:21.535Z"
   },
   {
    "duration": 102,
    "start_time": "2023-03-28T12:34:21.598Z"
   },
   {
    "duration": 613,
    "start_time": "2023-03-28T12:34:21.702Z"
   },
   {
    "duration": 31,
    "start_time": "2023-03-28T12:34:22.317Z"
   },
   {
    "duration": 59,
    "start_time": "2023-03-28T12:34:22.362Z"
   },
   {
    "duration": 90,
    "start_time": "2023-03-28T12:34:22.424Z"
   },
   {
    "duration": 35,
    "start_time": "2023-03-28T12:34:22.517Z"
   },
   {
    "duration": 40,
    "start_time": "2023-03-28T12:34:22.561Z"
   },
   {
    "duration": 55,
    "start_time": "2023-03-28T12:34:22.603Z"
   },
   {
    "duration": 118,
    "start_time": "2023-03-28T12:34:22.660Z"
   },
   {
    "duration": 70,
    "start_time": "2023-03-28T12:34:22.780Z"
   },
   {
    "duration": 143,
    "start_time": "2023-03-28T12:34:22.867Z"
   },
   {
    "duration": 66,
    "start_time": "2023-03-28T12:34:23.012Z"
   },
   {
    "duration": 83,
    "start_time": "2023-03-28T12:34:23.080Z"
   },
   {
    "duration": 73,
    "start_time": "2023-03-28T12:34:23.173Z"
   },
   {
    "duration": 72,
    "start_time": "2023-03-28T12:34:23.249Z"
   },
   {
    "duration": 48,
    "start_time": "2023-03-28T12:34:23.324Z"
   },
   {
    "duration": 33,
    "start_time": "2023-03-28T12:34:23.381Z"
   },
   {
    "duration": 18,
    "start_time": "2023-03-28T12:34:23.416Z"
   },
   {
    "duration": 211,
    "start_time": "2023-03-28T12:34:23.436Z"
   },
   {
    "duration": 0,
    "start_time": "2023-03-28T12:34:23.653Z"
   },
   {
    "duration": 13,
    "start_time": "2023-03-28T12:35:57.585Z"
   },
   {
    "duration": 17,
    "start_time": "2023-03-28T12:36:00.595Z"
   },
   {
    "duration": 23,
    "start_time": "2023-03-28T12:36:35.371Z"
   },
   {
    "duration": 12,
    "start_time": "2023-03-28T12:37:23.171Z"
   },
   {
    "duration": 5,
    "start_time": "2023-03-28T12:38:53.809Z"
   },
   {
    "duration": 5,
    "start_time": "2023-03-28T12:39:19.397Z"
   },
   {
    "duration": 17,
    "start_time": "2023-03-28T12:40:38.214Z"
   },
   {
    "duration": 7,
    "start_time": "2023-03-28T12:41:08.636Z"
   },
   {
    "duration": 7,
    "start_time": "2023-03-28T12:41:10.280Z"
   },
   {
    "duration": 8,
    "start_time": "2023-03-28T12:42:29.971Z"
   },
   {
    "duration": 7,
    "start_time": "2023-03-28T12:42:30.677Z"
   },
   {
    "duration": 7,
    "start_time": "2023-03-28T12:45:17.137Z"
   },
   {
    "duration": 13,
    "start_time": "2023-03-28T12:46:58.959Z"
   },
   {
    "duration": 16,
    "start_time": "2023-03-28T12:47:59.364Z"
   },
   {
    "duration": 7,
    "start_time": "2023-03-28T12:48:19.691Z"
   },
   {
    "duration": 15,
    "start_time": "2023-03-28T12:48:26.296Z"
   },
   {
    "duration": 152,
    "start_time": "2023-03-28T12:52:22.967Z"
   },
   {
    "duration": 26,
    "start_time": "2023-03-28T12:52:34.439Z"
   },
   {
    "duration": 59,
    "start_time": "2023-03-28T12:52:35.415Z"
   },
   {
    "duration": 4,
    "start_time": "2023-03-28T12:53:19.209Z"
   },
   {
    "duration": 4,
    "start_time": "2023-03-28T12:53:29.503Z"
   },
   {
    "duration": 10,
    "start_time": "2023-03-28T12:53:30.008Z"
   },
   {
    "duration": 1703,
    "start_time": "2023-03-28T12:53:31.308Z"
   },
   {
    "duration": 45,
    "start_time": "2023-03-28T12:54:05.937Z"
   },
   {
    "duration": 5,
    "start_time": "2023-03-28T12:54:13.304Z"
   },
   {
    "duration": 15,
    "start_time": "2023-03-28T12:54:14.443Z"
   },
   {
    "duration": 2187,
    "start_time": "2023-03-28T12:54:15.617Z"
   },
   {
    "duration": 2575,
    "start_time": "2023-03-28T12:55:03.440Z"
   },
   {
    "duration": 2416,
    "start_time": "2023-03-28T12:55:41.921Z"
   },
   {
    "duration": 50,
    "start_time": "2023-03-29T08:46:09.700Z"
   },
   {
    "duration": 1472,
    "start_time": "2023-03-29T08:46:26.961Z"
   },
   {
    "duration": 1084,
    "start_time": "2023-03-29T08:46:28.435Z"
   },
   {
    "duration": 16,
    "start_time": "2023-03-29T08:46:29.521Z"
   },
   {
    "duration": 18,
    "start_time": "2023-03-29T08:46:29.540Z"
   },
   {
    "duration": 34,
    "start_time": "2023-03-29T08:46:29.560Z"
   },
   {
    "duration": 39,
    "start_time": "2023-03-29T08:46:29.595Z"
   },
   {
    "duration": 291,
    "start_time": "2023-03-29T08:46:29.635Z"
   },
   {
    "duration": 9,
    "start_time": "2023-03-29T08:46:29.928Z"
   },
   {
    "duration": 8,
    "start_time": "2023-03-29T08:46:29.939Z"
   },
   {
    "duration": 19,
    "start_time": "2023-03-29T08:46:29.970Z"
   },
   {
    "duration": 120,
    "start_time": "2023-03-29T08:46:29.991Z"
   },
   {
    "duration": 40,
    "start_time": "2023-03-29T08:46:30.113Z"
   },
   {
    "duration": 267,
    "start_time": "2023-03-29T08:46:30.154Z"
   },
   {
    "duration": 9,
    "start_time": "2023-03-29T08:46:30.423Z"
   },
   {
    "duration": 24,
    "start_time": "2023-03-29T08:46:30.433Z"
   },
   {
    "duration": 55,
    "start_time": "2023-03-29T08:46:30.459Z"
   },
   {
    "duration": 47,
    "start_time": "2023-03-29T08:46:30.515Z"
   },
   {
    "duration": 55,
    "start_time": "2023-03-29T08:46:30.564Z"
   },
   {
    "duration": 271,
    "start_time": "2023-03-29T08:46:30.621Z"
   },
   {
    "duration": 9,
    "start_time": "2023-03-29T08:46:30.894Z"
   },
   {
    "duration": 39,
    "start_time": "2023-03-29T08:46:30.904Z"
   },
   {
    "duration": 31,
    "start_time": "2023-03-29T08:46:30.945Z"
   },
   {
    "duration": 33,
    "start_time": "2023-03-29T08:46:30.978Z"
   },
   {
    "duration": 16,
    "start_time": "2023-03-29T08:46:31.012Z"
   },
   {
    "duration": 52,
    "start_time": "2023-03-29T08:46:31.029Z"
   },
   {
    "duration": 12,
    "start_time": "2023-03-29T08:46:31.084Z"
   },
   {
    "duration": 108,
    "start_time": "2023-03-29T08:46:31.169Z"
   },
   {
    "duration": 15,
    "start_time": "2023-03-29T08:46:31.281Z"
   },
   {
    "duration": 108,
    "start_time": "2023-03-29T08:46:31.372Z"
   },
   {
    "duration": 13,
    "start_time": "2023-03-29T08:46:31.482Z"
   },
   {
    "duration": 77,
    "start_time": "2023-03-29T08:46:31.498Z"
   },
   {
    "duration": 105,
    "start_time": "2023-03-29T08:46:31.578Z"
   },
   {
    "duration": 6,
    "start_time": "2023-03-29T08:46:31.688Z"
   },
   {
    "duration": 140,
    "start_time": "2023-03-29T08:46:31.696Z"
   },
   {
    "duration": 0,
    "start_time": "2023-03-29T08:46:31.837Z"
   },
   {
    "duration": 0,
    "start_time": "2023-03-29T08:46:31.839Z"
   },
   {
    "duration": 0,
    "start_time": "2023-03-29T08:46:31.840Z"
   },
   {
    "duration": 0,
    "start_time": "2023-03-29T08:46:31.842Z"
   },
   {
    "duration": 0,
    "start_time": "2023-03-29T08:46:31.842Z"
   },
   {
    "duration": 0,
    "start_time": "2023-03-29T08:46:31.843Z"
   },
   {
    "duration": 0,
    "start_time": "2023-03-29T08:46:31.845Z"
   },
   {
    "duration": 0,
    "start_time": "2023-03-29T08:46:31.846Z"
   },
   {
    "duration": 0,
    "start_time": "2023-03-29T08:46:31.847Z"
   },
   {
    "duration": 0,
    "start_time": "2023-03-29T08:46:31.848Z"
   },
   {
    "duration": 0,
    "start_time": "2023-03-29T08:46:31.849Z"
   },
   {
    "duration": 0,
    "start_time": "2023-03-29T08:46:31.850Z"
   },
   {
    "duration": 0,
    "start_time": "2023-03-29T08:46:31.851Z"
   },
   {
    "duration": 0,
    "start_time": "2023-03-29T08:46:31.852Z"
   },
   {
    "duration": 4,
    "start_time": "2023-03-29T08:47:36.891Z"
   },
   {
    "duration": 4,
    "start_time": "2023-03-29T08:48:13.313Z"
   },
   {
    "duration": 13,
    "start_time": "2023-03-29T08:49:40.103Z"
   },
   {
    "duration": 11,
    "start_time": "2023-03-29T08:50:26.158Z"
   },
   {
    "duration": 9,
    "start_time": "2023-03-29T08:51:12.984Z"
   },
   {
    "duration": 14,
    "start_time": "2023-03-29T08:51:27.182Z"
   },
   {
    "duration": 3,
    "start_time": "2023-03-29T08:51:50.258Z"
   },
   {
    "duration": 12,
    "start_time": "2023-03-29T08:53:03.830Z"
   },
   {
    "duration": 14,
    "start_time": "2023-03-29T08:53:40.394Z"
   },
   {
    "duration": 15,
    "start_time": "2023-03-29T08:54:19.442Z"
   },
   {
    "duration": 16,
    "start_time": "2023-03-29T08:54:39.923Z"
   },
   {
    "duration": 4,
    "start_time": "2023-03-29T08:55:49.733Z"
   },
   {
    "duration": 4,
    "start_time": "2023-03-29T08:56:08.494Z"
   },
   {
    "duration": 4,
    "start_time": "2023-03-29T08:57:57.589Z"
   },
   {
    "duration": 9,
    "start_time": "2023-03-29T08:58:12.755Z"
   },
   {
    "duration": 3,
    "start_time": "2023-03-29T08:58:46.258Z"
   },
   {
    "duration": 8,
    "start_time": "2023-03-29T08:59:09.492Z"
   },
   {
    "duration": 3,
    "start_time": "2023-03-29T09:00:18.590Z"
   },
   {
    "duration": 5,
    "start_time": "2023-03-29T09:00:32.489Z"
   },
   {
    "duration": 19,
    "start_time": "2023-03-29T09:00:43.425Z"
   },
   {
    "duration": 9,
    "start_time": "2023-03-29T09:01:04.755Z"
   },
   {
    "duration": 16,
    "start_time": "2023-03-29T09:01:24.359Z"
   },
   {
    "duration": 5,
    "start_time": "2023-03-29T09:02:08.595Z"
   },
   {
    "duration": 8,
    "start_time": "2023-03-29T09:02:09.990Z"
   },
   {
    "duration": 6,
    "start_time": "2023-03-29T09:02:11.857Z"
   },
   {
    "duration": 8,
    "start_time": "2023-03-29T09:02:13.621Z"
   },
   {
    "duration": 6,
    "start_time": "2023-03-29T09:02:52.094Z"
   },
   {
    "duration": 4,
    "start_time": "2023-03-29T09:04:45.156Z"
   },
   {
    "duration": 7,
    "start_time": "2023-03-29T09:05:06.819Z"
   },
   {
    "duration": 1569,
    "start_time": "2023-03-29T09:05:17.996Z"
   },
   {
    "duration": 1472,
    "start_time": "2023-03-29T09:05:35.290Z"
   },
   {
    "duration": 1901,
    "start_time": "2023-03-29T09:05:46.216Z"
   },
   {
    "duration": 1767,
    "start_time": "2023-03-29T09:05:56.724Z"
   },
   {
    "duration": 1732,
    "start_time": "2023-03-29T09:06:01.211Z"
   },
   {
    "duration": 14,
    "start_time": "2023-03-29T09:12:21.792Z"
   },
   {
    "duration": 119,
    "start_time": "2023-03-29T09:15:20.349Z"
   },
   {
    "duration": 181,
    "start_time": "2023-03-29T09:17:04.594Z"
   },
   {
    "duration": 1301,
    "start_time": "2023-03-29T09:43:07.497Z"
   },
   {
    "duration": 343,
    "start_time": "2023-03-29T09:43:08.800Z"
   },
   {
    "duration": 14,
    "start_time": "2023-03-29T09:43:09.144Z"
   },
   {
    "duration": 32,
    "start_time": "2023-03-29T09:43:09.160Z"
   },
   {
    "duration": 32,
    "start_time": "2023-03-29T09:43:09.194Z"
   },
   {
    "duration": 42,
    "start_time": "2023-03-29T09:43:09.228Z"
   },
   {
    "duration": 306,
    "start_time": "2023-03-29T09:43:09.271Z"
   },
   {
    "duration": 8,
    "start_time": "2023-03-29T09:43:09.579Z"
   },
   {
    "duration": 9,
    "start_time": "2023-03-29T09:43:09.589Z"
   },
   {
    "duration": 26,
    "start_time": "2023-03-29T09:43:09.601Z"
   },
   {
    "duration": 48,
    "start_time": "2023-03-29T09:43:09.629Z"
   },
   {
    "duration": 42,
    "start_time": "2023-03-29T09:43:09.679Z"
   },
   {
    "duration": 301,
    "start_time": "2023-03-29T09:43:09.722Z"
   },
   {
    "duration": 8,
    "start_time": "2023-03-29T09:43:10.025Z"
   },
   {
    "duration": 8,
    "start_time": "2023-03-29T09:43:10.035Z"
   },
   {
    "duration": 30,
    "start_time": "2023-03-29T09:43:10.045Z"
   },
   {
    "duration": 32,
    "start_time": "2023-03-29T09:43:10.077Z"
   },
   {
    "duration": 40,
    "start_time": "2023-03-29T09:43:10.111Z"
   },
   {
    "duration": 349,
    "start_time": "2023-03-29T09:43:10.169Z"
   },
   {
    "duration": 8,
    "start_time": "2023-03-29T09:43:10.520Z"
   },
   {
    "duration": 17,
    "start_time": "2023-03-29T09:43:10.530Z"
   },
   {
    "duration": 26,
    "start_time": "2023-03-29T09:43:10.549Z"
   },
   {
    "duration": 17,
    "start_time": "2023-03-29T09:43:10.577Z"
   },
   {
    "duration": 6,
    "start_time": "2023-03-29T09:43:10.596Z"
   },
   {
    "duration": 19,
    "start_time": "2023-03-29T09:43:10.603Z"
   },
   {
    "duration": 6,
    "start_time": "2023-03-29T09:43:10.671Z"
   },
   {
    "duration": 104,
    "start_time": "2023-03-29T09:43:10.678Z"
   },
   {
    "duration": 82,
    "start_time": "2023-03-29T09:43:10.787Z"
   },
   {
    "duration": 102,
    "start_time": "2023-03-29T09:43:10.871Z"
   },
   {
    "duration": 5,
    "start_time": "2023-03-29T09:43:10.975Z"
   },
   {
    "duration": 96,
    "start_time": "2023-03-29T09:43:10.981Z"
   },
   {
    "duration": 10,
    "start_time": "2023-03-29T09:43:11.169Z"
   },
   {
    "duration": 6,
    "start_time": "2023-03-29T09:43:11.180Z"
   },
   {
    "duration": 5,
    "start_time": "2023-03-29T09:43:11.187Z"
   },
   {
    "duration": 5,
    "start_time": "2023-03-29T09:43:11.194Z"
   },
   {
    "duration": 31,
    "start_time": "2023-03-29T09:43:11.200Z"
   },
   {
    "duration": 11,
    "start_time": "2023-03-29T09:43:11.232Z"
   },
   {
    "duration": 25,
    "start_time": "2023-03-29T09:43:11.244Z"
   },
   {
    "duration": 12,
    "start_time": "2023-03-29T09:43:11.271Z"
   },
   {
    "duration": 11,
    "start_time": "2023-03-29T09:43:11.284Z"
   },
   {
    "duration": 11,
    "start_time": "2023-03-29T09:43:11.297Z"
   },
   {
    "duration": 3,
    "start_time": "2023-03-29T09:43:11.309Z"
   },
   {
    "duration": 5,
    "start_time": "2023-03-29T09:43:11.313Z"
   },
   {
    "duration": 5,
    "start_time": "2023-03-29T09:43:11.319Z"
   },
   {
    "duration": 12,
    "start_time": "2023-03-29T09:43:11.325Z"
   },
   {
    "duration": 41,
    "start_time": "2023-03-29T09:43:11.338Z"
   },
   {
    "duration": 4,
    "start_time": "2023-03-29T09:43:11.380Z"
   },
   {
    "duration": 5,
    "start_time": "2023-03-29T09:43:11.385Z"
   },
   {
    "duration": 5,
    "start_time": "2023-03-29T09:43:11.391Z"
   },
   {
    "duration": 9,
    "start_time": "2023-03-29T09:43:11.398Z"
   },
   {
    "duration": 5,
    "start_time": "2023-03-29T09:43:11.408Z"
   },
   {
    "duration": 6,
    "start_time": "2023-03-29T09:43:11.415Z"
   },
   {
    "duration": 5,
    "start_time": "2023-03-29T09:43:11.423Z"
   },
   {
    "duration": 6,
    "start_time": "2023-03-29T09:43:11.429Z"
   },
   {
    "duration": 1558,
    "start_time": "2023-03-29T09:43:11.436Z"
   },
   {
    "duration": 1469,
    "start_time": "2023-03-29T09:43:12.996Z"
   },
   {
    "duration": 1547,
    "start_time": "2023-03-29T09:43:14.468Z"
   },
   {
    "duration": 9,
    "start_time": "2023-03-29T09:43:16.017Z"
   },
   {
    "duration": 120,
    "start_time": "2023-03-29T09:43:16.028Z"
   },
   {
    "duration": 85,
    "start_time": "2023-03-29T09:43:16.150Z"
   },
   {
    "duration": 4,
    "start_time": "2023-03-29T10:00:47.114Z"
   },
   {
    "duration": 4,
    "start_time": "2023-03-29T10:00:49.238Z"
   },
   {
    "duration": 1312,
    "start_time": "2023-03-29T10:17:26.972Z"
   },
   {
    "duration": 319,
    "start_time": "2023-03-29T10:17:28.285Z"
   },
   {
    "duration": 12,
    "start_time": "2023-03-29T10:17:28.605Z"
   },
   {
    "duration": 13,
    "start_time": "2023-03-29T10:17:28.619Z"
   },
   {
    "duration": 51,
    "start_time": "2023-03-29T10:17:28.634Z"
   },
   {
    "duration": 41,
    "start_time": "2023-03-29T10:17:28.687Z"
   },
   {
    "duration": 271,
    "start_time": "2023-03-29T10:17:28.729Z"
   },
   {
    "duration": 9,
    "start_time": "2023-03-29T10:17:29.001Z"
   },
   {
    "duration": 8,
    "start_time": "2023-03-29T10:17:29.011Z"
   },
   {
    "duration": 15,
    "start_time": "2023-03-29T10:17:29.023Z"
   },
   {
    "duration": 61,
    "start_time": "2023-03-29T10:17:29.039Z"
   },
   {
    "duration": 39,
    "start_time": "2023-03-29T10:17:29.102Z"
   },
   {
    "duration": 271,
    "start_time": "2023-03-29T10:17:29.143Z"
   },
   {
    "duration": 10,
    "start_time": "2023-03-29T10:17:29.415Z"
   },
   {
    "duration": 11,
    "start_time": "2023-03-29T10:17:29.426Z"
   },
   {
    "duration": 34,
    "start_time": "2023-03-29T10:17:29.439Z"
   },
   {
    "duration": 39,
    "start_time": "2023-03-29T10:17:29.475Z"
   },
   {
    "duration": 53,
    "start_time": "2023-03-29T10:17:29.516Z"
   },
   {
    "duration": 333,
    "start_time": "2023-03-29T10:17:29.571Z"
   },
   {
    "duration": 8,
    "start_time": "2023-03-29T10:17:29.906Z"
   },
   {
    "duration": 13,
    "start_time": "2023-03-29T10:17:29.916Z"
   },
   {
    "duration": 15,
    "start_time": "2023-03-29T10:17:29.931Z"
   },
   {
    "duration": 34,
    "start_time": "2023-03-29T10:17:29.948Z"
   },
   {
    "duration": 5,
    "start_time": "2023-03-29T10:17:29.984Z"
   },
   {
    "duration": 84,
    "start_time": "2023-03-29T10:17:29.991Z"
   },
   {
    "duration": 92,
    "start_time": "2023-03-29T10:17:30.076Z"
   },
   {
    "duration": 26,
    "start_time": "2023-03-29T10:17:30.170Z"
   },
   {
    "duration": 73,
    "start_time": "2023-03-29T10:17:30.200Z"
   },
   {
    "duration": 104,
    "start_time": "2023-03-29T10:17:30.274Z"
   },
   {
    "duration": 189,
    "start_time": "2023-03-29T10:17:30.379Z"
   },
   {
    "duration": 4,
    "start_time": "2023-03-29T10:17:30.570Z"
   },
   {
    "duration": 39,
    "start_time": "2023-03-29T10:17:30.576Z"
   },
   {
    "duration": 55,
    "start_time": "2023-03-29T10:17:30.617Z"
   },
   {
    "duration": 23,
    "start_time": "2023-03-29T10:17:30.673Z"
   },
   {
    "duration": 18,
    "start_time": "2023-03-29T10:17:30.697Z"
   },
   {
    "duration": 40,
    "start_time": "2023-03-29T10:17:30.717Z"
   },
   {
    "duration": 27,
    "start_time": "2023-03-29T10:17:30.759Z"
   },
   {
    "duration": 35,
    "start_time": "2023-03-29T10:17:30.787Z"
   },
   {
    "duration": 25,
    "start_time": "2023-03-29T10:17:30.824Z"
   },
   {
    "duration": 33,
    "start_time": "2023-03-29T10:17:30.851Z"
   },
   {
    "duration": 35,
    "start_time": "2023-03-29T10:17:30.886Z"
   },
   {
    "duration": 24,
    "start_time": "2023-03-29T10:17:30.923Z"
   },
   {
    "duration": 28,
    "start_time": "2023-03-29T10:17:30.949Z"
   },
   {
    "duration": 11,
    "start_time": "2023-03-29T10:17:30.979Z"
   },
   {
    "duration": 27,
    "start_time": "2023-03-29T10:17:30.992Z"
   },
   {
    "duration": 19,
    "start_time": "2023-03-29T10:17:31.020Z"
   },
   {
    "duration": 17,
    "start_time": "2023-03-29T10:17:31.041Z"
   },
   {
    "duration": 23,
    "start_time": "2023-03-29T10:17:31.060Z"
   },
   {
    "duration": 10,
    "start_time": "2023-03-29T10:17:31.084Z"
   },
   {
    "duration": 39,
    "start_time": "2023-03-29T10:17:31.095Z"
   },
   {
    "duration": 8,
    "start_time": "2023-03-29T10:17:31.136Z"
   },
   {
    "duration": 10,
    "start_time": "2023-03-29T10:17:31.146Z"
   },
   {
    "duration": 10,
    "start_time": "2023-03-29T10:17:31.158Z"
   },
   {
    "duration": 8,
    "start_time": "2023-03-29T10:17:31.169Z"
   },
   {
    "duration": 1486,
    "start_time": "2023-03-29T10:17:31.179Z"
   },
   {
    "duration": 1466,
    "start_time": "2023-03-29T10:17:32.668Z"
   },
   {
    "duration": 1427,
    "start_time": "2023-03-29T10:17:34.136Z"
   },
   {
    "duration": 9,
    "start_time": "2023-03-29T10:17:35.568Z"
   },
   {
    "duration": 122,
    "start_time": "2023-03-29T10:17:35.578Z"
   },
   {
    "duration": 100,
    "start_time": "2023-03-29T10:17:35.701Z"
   }
  ],
  "kernelspec": {
   "display_name": "Python 3 (ipykernel)",
   "language": "python",
   "name": "python3"
  },
  "language_info": {
   "codemirror_mode": {
    "name": "ipython",
    "version": 3
   },
   "file_extension": ".py",
   "mimetype": "text/x-python",
   "name": "python",
   "nbconvert_exporter": "python",
   "pygments_lexer": "ipython3",
   "version": "3.11.3"
  },
  "toc": {
   "base_numbering": 1,
   "nav_menu": {},
   "number_sections": true,
   "sideBar": true,
   "skip_h1_title": true,
   "title_cell": "Table of Contents",
   "title_sidebar": "Contents",
   "toc_cell": false,
   "toc_position": {},
   "toc_section_display": true,
   "toc_window_display": false
  }
 },
 "nbformat": 4,
 "nbformat_minor": 2
}
